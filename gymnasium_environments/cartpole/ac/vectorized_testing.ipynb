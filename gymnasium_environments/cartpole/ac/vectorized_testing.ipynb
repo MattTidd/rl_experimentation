{
 "cells": [
  {
   "cell_type": "markdown",
   "id": "4398c23c",
   "metadata": {},
   "source": [
    "import:"
   ]
  },
  {
   "cell_type": "code",
   "execution_count": 542,
   "id": "1018edad",
   "metadata": {},
   "outputs": [],
   "source": [
    "# import these:\n",
    "import gymnasium as gym\n",
    "from gymnasium.vector import AsyncVectorEnv\n",
    "from wrappers.swingup_wrapper import SwingUpWrapper\n",
    "import numpy as np\n",
    "import tensorflow as tf\n",
    "from tqdm import tqdm\n",
    "from tensorflow import keras\n",
    "from tensorflow.keras.layers import Input, Dense, BatchNormalization, Dropout\n",
    "from tensorflow.keras.optimizers import Adam\n",
    "import matplotlib.pyplot as plt"
   ]
  },
  {
   "cell_type": "markdown",
   "id": "e097d206",
   "metadata": {},
   "source": [
    "function for making vectorized environments:"
   ]
  },
  {
   "cell_type": "code",
   "execution_count": 543,
   "id": "b9774610",
   "metadata": {},
   "outputs": [],
   "source": [
    "# function that takes seed and env_name:\n",
    "def make_env(env_name : str, seed):\n",
    "    def intermediary():\n",
    "        # make the environment based on the provided env_name:\n",
    "        env = gym.make(env_name)\n",
    "\n",
    "        # wrap environment:\n",
    "        env = SwingUpWrapper(env)\n",
    "\n",
    "        # reset and seed the environment:\n",
    "        env.reset(seed = seed)\n",
    "\n",
    "        # return env to user:\n",
    "        return env\n",
    "    return intermediary"
   ]
  },
  {
   "cell_type": "markdown",
   "id": "9954e767",
   "metadata": {},
   "source": [
    "function for making keras models:"
   ]
  },
  {
   "cell_type": "code",
   "execution_count": 544,
   "id": "888a2ce4",
   "metadata": {},
   "outputs": [],
   "source": [
    "# function for making a keras model based on inputs:\n",
    "def make_model(layers, neurons, rate, input_shape, output_shape, loss_function, output_activation):\n",
    "    # instantiate model:\n",
    "    model = keras.Sequential()\n",
    "\n",
    "    # add hidden layers:\n",
    "    for i in range(layers):\n",
    "        if i == 0:\n",
    "            model.add(Input(shape = (input_shape, )))\n",
    "            model.add(Dense(neurons, activation = 'relu', name = f\"hidden_layer_{i+1}\"))\n",
    "        else: \n",
    "            model.add(Dense(neurons, activation = 'relu', name = f\"hidden_layer_{i+1}\"))\n",
    "\n",
    "    # add output layer:\n",
    "    model.add(Dense(output_shape, activation = output_activation, name = 'output_layer'))\n",
    "\n",
    "    # compile the model:\n",
    "    model.compile(optimizer = Adam(learning_rate = rate),\n",
    "                  loss = loss_function)\n",
    "    \n",
    "    # return to user:\n",
    "    return model"
   ]
  },
  {
   "cell_type": "markdown",
   "id": "9c7377ba",
   "metadata": {},
   "source": [
    "function to calculate discounted returns in the vectorized environments:"
   ]
  },
  {
   "cell_type": "code",
   "execution_count": 545,
   "id": "78c8da72",
   "metadata": {},
   "outputs": [],
   "source": [
    "def discounted_returns(rewards, dones, last_value, gamma : float):\n",
    "    # compute the discounted cummulative reward for a vectorized environment:\n",
    "    n_steps, n_envs = rewards.shape\n",
    "    returns = np.zeros((n_steps, n_envs))\n",
    "    running_return = last_value\n",
    "\n",
    "    # start computing discounted return:\n",
    "    for t in reversed(range(n_steps)):\n",
    "        running_return = rewards[t] + gamma * running_return * (1 - dones[t])\n",
    "        returns[t] = running_return\n",
    "    \n",
    "    # return to user:\n",
    "    return returns"
   ]
  },
  {
   "cell_type": "markdown",
   "id": "5bdefe1e",
   "metadata": {},
   "source": [
    "define parallelization stuff:"
   ]
  },
  {
   "cell_type": "code",
   "execution_count": 546,
   "id": "d3a3b9c4",
   "metadata": {},
   "outputs": [
    {
     "name": "stdout",
     "output_type": "stream",
     "text": [
      "observation space has size: 4\n",
      "action space has size: 2\n"
     ]
    }
   ],
   "source": [
    "# define desired number of environments:\n",
    "n_envs = 32\n",
    "\n",
    "# make those environments:\n",
    "envs = AsyncVectorEnv([make_env(env_name = \"CartPole-v1\", seed = i) for i in range(n_envs)])\n",
    "\n",
    "# get information about state and action space:\n",
    "nS = envs.single_observation_space.shape[0]\n",
    "nA = envs.single_action_space.n\n",
    "\n",
    "print(f\"observation space has size: {nS}\")\n",
    "print(f\"action space has size: {nA}\")\n"
   ]
  },
  {
   "cell_type": "markdown",
   "id": "0aa028e5",
   "metadata": {},
   "source": [
    "create networks:"
   ]
  },
  {
   "cell_type": "code",
   "execution_count": 547,
   "id": "a5336b46",
   "metadata": {},
   "outputs": [],
   "source": [
    "# clear the backend:\n",
    "tf.keras.backend.clear_session()\n",
    "\n",
    "# model params:\n",
    "layers = 3\n",
    "neurons = 64\n",
    "lr_a = 1e-4\n",
    "lr_c = 1e-3\n",
    "gamma = 0.98\n",
    "\n",
    "# actor network with probabilistic output:\n",
    "actor = make_model(layers = layers, neurons = neurons, rate = lr_a, input_shape = nS, output_shape = nA, output_activation = \"softmax\", loss_function = \"categorical_crossentropy\")\n",
    "\n",
    "# critic network with linearly activated output:\n",
    "critic = make_model(layers = layers, neurons = neurons, rate = lr_c, input_shape = nS, output_shape = 1, output_activation = \"linear\", loss_function = \"mse\")"
   ]
  },
  {
   "cell_type": "markdown",
   "id": "71cfe5d8",
   "metadata": {},
   "source": [
    "function to perform the training step:"
   ]
  },
  {
   "cell_type": "code",
   "execution_count": 548,
   "id": "d0e24822",
   "metadata": {},
   "outputs": [],
   "source": [
    "# decorated function for training:\n",
    "@tf.function\n",
    "def training_step(states, actions, returns, advantages):\n",
    "    # convert these values to tensors:\n",
    "    states = tf.convert_to_tensor(states, dtype = tf.float32)\n",
    "    actions = tf.cast(actions, dtype = tf.int32)\n",
    "    returns = tf.cast(returns, dtype = tf.float32)\n",
    "    advantages = tf.cast(advantages, dtype = tf.float32)\n",
    "\n",
    "    # CRITIC UPDATE:\n",
    "    with tf.GradientTape() as critic_tape:\n",
    "        # pass state through critic:\n",
    "        values = tf.squeeze(critic(states, training = True), axis = 1)\n",
    "\n",
    "        # compute critic loss:\n",
    "        critic_loss = tf.reduce_mean(tf.square(returns - values))\n",
    "\n",
    "    # backpropagate and update critic:\n",
    "    critic_grads = critic_tape.gradient(critic_loss, critic.trainable_variables)\n",
    "    critic.optimizer.apply_gradients(zip(critic_grads, critic.trainable_variables))\n",
    "\n",
    "    # ACTOR UPDATE:\n",
    "    with tf.GradientTape() as actor_tape:\n",
    "        # pass state through actor to get probs:\n",
    "        probabilities = actor(states, training = True)\n",
    "\n",
    "        # take a log of policy for scoring:\n",
    "        log_probs = tf.math.log(tf.clip_by_value(probabilities, 1e-8, 1.0))\n",
    "\n",
    "        # get a mask of the actions chosen:\n",
    "        action_mask = tf.one_hot(actions, nA, dtype = tf.float32)\n",
    "\n",
    "        # get the log probability of the actions that were actually chosen:\n",
    "        log_probs_chosen = tf.reduce_sum(action_mask * log_probs, axis = 1)\n",
    "\n",
    "        # entropy term:\n",
    "        entropy_per_sample = -tf.reduce_sum(probabilities * log_probs, axis = 1)\n",
    "\n",
    "        # compute the actor loss (ascent):\n",
    "        actor_loss = -tf.reduce_mean(log_probs_chosen * advantages) - beta * tf.reduce_mean(entropy_per_sample)\n",
    "    \n",
    "    # backpropagate and update actor:\n",
    "    actor_grads = actor_tape.gradient(actor_loss, actor.trainable_variables)\n",
    "    actor.optimizer.apply_gradients(zip(actor_grads, actor.trainable_variables))\n"
   ]
  },
  {
   "cell_type": "markdown",
   "id": "1023f3b6",
   "metadata": {},
   "source": [
    "training loop:"
   ]
  },
  {
   "cell_type": "code",
   "execution_count": 549,
   "id": "4ab19a5a",
   "metadata": {},
   "outputs": [
    {
     "name": "stderr",
     "output_type": "stream",
     "text": [
      "training progress:: 100%|\u001b[38;2;51;255;0m█████████████████████████████████████\u001b[0m| 10000/10000 [33:09<00:00,  5.03it/s]\u001b[0m\n"
     ]
    }
   ],
   "source": [
    "# define values:\n",
    "n_steps = 40\n",
    "num_updates = 10000\n",
    "beta = 1e-1\n",
    "\n",
    "per_env_reward = np.zeros(n_envs)\n",
    "reward_history = []\n",
    "\n",
    "obs, _ = envs.reset()\n",
    "\n",
    "# training algorithm:\n",
    "for update in tqdm(range(num_updates), colour = \"#33FF00\", ncols = 100, desc = \"training progress:\"):\n",
    "    # 0) initialization:\n",
    "    obs_buf = []\n",
    "    act_buf = []\n",
    "    rew_buf = []\n",
    "    val_buf = []\n",
    "    done_buf = []\n",
    "\n",
    "    # 1) rollout for n_steps:\n",
    "    for step in range(n_steps):\n",
    "        # a) pass observation through networks:\n",
    "        obs_tensor = tf.convert_to_tensor(obs, dtype = tf.float32)\n",
    "        actor_output = actor(obs_tensor)\n",
    "        critic_output = critic(obs_tensor)\n",
    "\n",
    "        # b) pick an action:\n",
    "        probs = actor_output.numpy()\n",
    "        probs /= probs.sum(axis =1, keepdims = True)\n",
    "        actions = [np.random.choice(len(prob), p = prob) for prob in probs]\n",
    "\n",
    "        # c) step the environments:\n",
    "        next_obs, rewards, terms, truncs, _ = envs.step(actions)\n",
    "        per_env_reward += rewards\n",
    "        done = np.logical_or(terms, truncs)\n",
    "\n",
    "        # d) record finished episodes, reset those env returns:\n",
    "        finished_indexes = np.where(done)[0]\n",
    "        for i in finished_indexes:\n",
    "            # append the per_env_reward of that env to history:\n",
    "            reward_history.append(per_env_reward[i])\n",
    "            per_env_reward[i] = 0.0\n",
    "\n",
    "        # e) pass transitions into buffers:\n",
    "        obs_buf.append(obs.copy())\n",
    "        act_buf.append(actions.copy())\n",
    "        rew_buf.append(rewards.copy())\n",
    "        val_buf.append(critic_output.numpy().squeeze())\n",
    "        done_buf.append(done.copy())\n",
    "\n",
    "        # f) advance the observation:\n",
    "        # vectorized env auto-resets its sub-envs, so its either next obs or reset obs.\n",
    "        obs = next_obs.astype(np.float32)\n",
    "\n",
    "    # 5) bootstrap value handling:\n",
    "    last_values = critic(tf.convert_to_tensor(obs, dtype = tf.float32)).numpy().squeeze()\n",
    "    last_done = done_buf[-1]        # boolean array from the last step of the rollout\n",
    "    last_values[last_done] = 0.0    # set to zero for bootstrapping envs that are terminated\n",
    "\n",
    "    # 6) stack buffers:\n",
    "    obs_buf = np.array(obs_buf)\n",
    "    act_buf = np.array(act_buf)\n",
    "    rew_buf = np.array(rew_buf)\n",
    "    val_buf = np.array(val_buf)\n",
    "    done_buf = np.array(done_buf)\n",
    "\n",
    "    # 7) compute returns and advantages:\n",
    "    returns = discounted_returns(rew_buf, done_buf, last_values, gamma = gamma)\n",
    "    advantages = returns - val_buf\n",
    "    \n",
    "    # 8) flatten, merging across steps and envs:\n",
    "    flat_obs = obs_buf.reshape(-1, nS)\n",
    "    flat_act = act_buf.reshape(-1)\n",
    "    flat_ret = returns.reshape(-1)\n",
    "    flat_adv = advantages.reshape(-1)\n",
    "\n",
    "    # 9) normalize the advantage:\n",
    "    flat_adv = (flat_adv - flat_adv.mean()) / (flat_adv.std() + 1e-8)\n",
    "\n",
    "    # 10) update step:\n",
    "    training_step(flat_obs, flat_act, flat_ret, flat_adv)\n"
   ]
  },
  {
   "cell_type": "markdown",
   "id": "90354c8c",
   "metadata": {},
   "source": [
    "visualize:"
   ]
  },
  {
   "cell_type": "code",
   "execution_count": 550,
   "id": "63da4a13",
   "metadata": {},
   "outputs": [
    {
     "data": {
      "text/plain": [
       "Text(0.5, -0.05, 'mean over last 100 episodes: 155.927')"
      ]
     },
     "execution_count": 550,
     "metadata": {},
     "output_type": "execute_result"
    },
    {
     "data": {
      "image/png": "[encoded data removed]",
      "text/plain": [
       "<Figure size 1000x400 with 1 Axes>"
      ]
     },
     "metadata": {},
     "output_type": "display_data"
    }
   ],
   "source": [
    "# moving average function:\n",
    "def moving_average(interval, window_size):\n",
    "    window = np.ones(int(window_size)) / float(window_size)\n",
    "    return np.convolve(interval, window, 'valid')\n",
    "\n",
    "filtered_data = moving_average(reward_history, 20)\n",
    "last_few = np.mean(reward_history[-100:]).round(3)\n",
    "\n",
    "figure = plt.figure(figsize = (10, 4))\n",
    "plt.plot(reward_history)\n",
    "plt.plot(filtered_data, 'r-')\n",
    "plt.minorticks_on\n",
    "plt.title(f\"α_a: {lr_a} | α_c: {lr_c} | β: {beta} | γ: {gamma} | neurons: {neurons} | layers: {layers} | n_steps: {n_steps} | n_envs: {n_envs}\")\n",
    "plt.xlabel('episode')\n",
    "plt.ylabel(f'reward earned')\n",
    "plt.figtext(x = 0.5, y = -0.05, s = f\"mean over last {100} episodes: {last_few}\", ha = 'center', va = 'center')"
   ]
  },
  {
   "cell_type": "markdown",
   "id": "89dcef21",
   "metadata": {},
   "source": [
    "old stuff:"
   ]
  },
  {
   "cell_type": "code",
   "execution_count": 551,
   "id": "57b50638",
   "metadata": {},
   "outputs": [],
   "source": [
    "# # define values:\n",
    "# n_steps = 5\n",
    "# training_length = 1000\n",
    "# beta = 0.01\n",
    "# reward_history = []\n",
    "\n",
    "# # training algorithm:\n",
    "# for episode in tqdm(range(training_length), colour = \"#33FF00\", ncols = 100, desc = \"training progress:\"):\n",
    "#     # 0) initialization:\n",
    "#     # reset all environments:\n",
    "#     obs, _ = envs.reset()\n",
    "#     episode_reward = 0\n",
    "#     done = False\n",
    "\n",
    "#     # clear buffers:\n",
    "#     obs_buf = []\n",
    "#     act_buf = []\n",
    "#     rew_buf = []\n",
    "#     val_buf = []\n",
    "#     done_buf = []\n",
    "\n",
    "#     # 1) rollout for n_steps:\n",
    "#     for step in range(n_steps):\n",
    "#         # a) pass observation through networks:\n",
    "#         obs_tensor = tf.convert_to_tensor(obs, dtype = tf.float32)\n",
    "#         actor_output = actor(obs_tensor)\n",
    "#         critic_output = critic(obs_tensor)\n",
    "\n",
    "#         # b) pick an action:\n",
    "#         actions = tf.random.categorical(actor_output, 1)[:, 0].numpy()\n",
    "\n",
    "#         # c) step the environments:\n",
    "#         next_obs, rewards, terms, truncs, _ = envs.step(actions)\n",
    "#         done = np.logical_or(terms, truncs)\n",
    "\n",
    "#         # d) populate buffers:\n",
    "#         obs_buf.append(obs)\n",
    "#         act_buf.append(actions)\n",
    "#         rew_buf.append(rewards)\n",
    "#         val_buf.append(critic_output.numpy().squeeze())\n",
    "#         done_buf.append(done)\n",
    "        \n",
    "#         # e) advance state:\n",
    "#         obs = next_obs\n",
    "    \n",
    "#     # 2) get the value at the last states:\n",
    "#     last_values = critic(tf.convert_to_tensor(obs, dtype = tf.float32)).numpy().squeeze()\n",
    "\n",
    "#     # 3) stack buffers, shape is [n_steps, n_envs, nS]:\n",
    "#     obs_buf = np.array(obs_buf)\n",
    "#     act_buf = np.array(act_buf)\n",
    "#     rew_buf = np.array(rew_buf)\n",
    "#     val_buf = np.array(val_buf)\n",
    "#     done_buf = np.array(done_buf)\n",
    "\n",
    "#     # 4) compute returns and advantages:\n",
    "#     returns = discounted_returns(rew_buf, done_buf, last_values)\n",
    "#     advantages = returns - val_buf\n",
    "\n",
    "#     # 5) flatten, merging across steps and environments:\n",
    "#     flat_obs = obs_buf.reshape(-1, nS)\n",
    "#     flat_act = act_buf.reshape(-1)\n",
    "#     flat_ret = returns.reshape(-1)\n",
    "#     flat_adv = advantages.reshape(-1)\n",
    "\n",
    "#     # 6) perform the training step:\n",
    "#     training_step(flat_obs, flat_act, flat_ret, flat_adv)\n",
    "\n",
    "#     # 7) compute episodic reward:\n",
    "#     avg_reward = np.mean([np.sum(rew_buf[:, i]) for i in range(n_envs)])\n",
    "#     reward_history.append(avg_reward)\n"
   ]
  }
 ],
 "metadata": {
  "kernelspec": {
   "display_name": "venv (3.12.5)",
   "language": "python",
   "name": "python3"
  },
  "language_info": {
   "codemirror_mode": {
    "name": "ipython",
    "version": 3
   },
   "file_extension": ".py",
   "mimetype": "text/x-python",
   "name": "python",
   "nbconvert_exporter": "python",
   "pygments_lexer": "ipython3",
   "version": "3.12.5"
  }
 },
 "nbformat": 4,
 "nbformat_minor": 5
}
