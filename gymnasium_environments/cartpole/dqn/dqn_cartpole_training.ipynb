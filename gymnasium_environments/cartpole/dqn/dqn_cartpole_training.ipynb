{
 "cells": [
  {
   "cell_type": "markdown",
   "id": "57fcff23",
   "metadata": {},
   "source": [
    "# **Introduction**\n",
    "\n",
    "This notebook is for implementing a Deep Q-Network (DQN) algorithm for the ``cartpole`` environment offered through Gymnasium. Gymnasium is an open source Python library for developing and comparing reinforcement learning algorithms, through the use of a standardized API."
   ]
  },
  {
   "cell_type": "markdown",
   "id": "7b59a22a",
   "metadata": {},
   "source": [
    "# **Import Packages**\n",
    "\n",
    "This section imports the necessary packages:"
   ]
  },
  {
   "cell_type": "code",
   "execution_count": 66,
   "id": "2a780bd0",
   "metadata": {},
   "outputs": [],
   "source": [
    "# import these packages:\n",
    "import gymnasium as gym\n",
    "# from wrappers.swingup_wrapper import SwingUpWrapper\n",
    "import numpy as np\n",
    "import random\n",
    "from tqdm import tqdm\n",
    "import matplotlib.pyplot as plt\n",
    "\n",
    "import tensorflow as tf\n",
    "from tensorflow import keras\n",
    "from tensorflow.keras.layers import Input, Dense, BatchNormalization, Dropout\n",
    "from tensorflow.keras.optimizers import Adam\n",
    "\n",
    "from collections import deque"
   ]
  },
  {
   "cell_type": "markdown",
   "id": "095ec607",
   "metadata": {},
   "source": [
    "# **Environment Setup**\n",
    "\n",
    "This section sets up the environment and defines the relevant functions needed for this implementation."
   ]
  },
  {
   "cell_type": "markdown",
   "id": "43cc50bb",
   "metadata": {},
   "source": [
    "##### Function for making Keras models:"
   ]
  },
  {
   "cell_type": "code",
   "execution_count": 67,
   "id": "c569977e",
   "metadata": {},
   "outputs": [],
   "source": [
    "# function for making a keras model:\n",
    "def make_model(layers, neurons, rate, norm, drop, input_shape, output_shape, loss_function):\n",
    "    # instantiate model:\n",
    "    model = keras.Sequential()\n",
    "\n",
    "    # add hidden layers:\n",
    "    for i in range(layers):\n",
    "        if i == 0:\n",
    "            model.add(Input(shape = (input_shape, )))\n",
    "            model.add(Dense(neurons, activation = 'relu', name = f'hidden_layer_{i+1}'))\n",
    "        else:\n",
    "            model.add(Dense(neurons, activation = 'relu', name = f'hidden_layer_{i+1}'))\n",
    "\n",
    "        if norm == True:\n",
    "            model.add(BatchNormalization(name = f'batch_norm_layer_{i+1}'))\n",
    "\n",
    "        if drop == True:\n",
    "            model.add(Dropout(0.2, name = f'dropout_layer_{i+1}'))\n",
    "    \n",
    "    # add output layer:\n",
    "    model.add(Dense(output_shape, activation = 'linear', name = 'output_layer'))\n",
    "\n",
    "    # compile the model:\n",
    "    model.compile(optimizer = Adam(learning_rate = rate),\n",
    "                  loss = loss_function)\n",
    "    \n",
    "    return model "
   ]
  },
  {
   "cell_type": "markdown",
   "id": "869b5353",
   "metadata": {},
   "source": [
    "##### DQN class:"
   ]
  },
  {
   "cell_type": "code",
   "execution_count": 68,
   "id": "a9628f95",
   "metadata": {},
   "outputs": [],
   "source": [
    "# DQN agent class:\n",
    "class DQN_Agent:\n",
    "    ####################### INITIALIZATION #######################\n",
    "    # constructor:\n",
    "    def __init__(self, \n",
    "        env: gym.Env, \n",
    "        gamma: float, \n",
    "        lr: float,\n",
    "        epsilon: float,\n",
    "        epsilon_min: float,\n",
    "        epsilon_decay: float,\n",
    "        batch_size: int,\n",
    "        buffer_size: int,\n",
    "        target_update_freq: int, \n",
    "        train_freq: int,\n",
    "        layers = int,\n",
    "        neurons = int, \n",
    "        seed = int):\n",
    "        \"\"\" \n",
    "        this is the constructor for the agent. this agent uses a DQN to learn an optimal policy, through the use of approximator neural network \n",
    "        to approximate action-value Q, and a target network to generate a Q-target used in the updating of Q(s,a). this is done to prevent updates\n",
    "        to the network weights from changing the target, meaning that we aren't bootstrapping towards a changing target. this helps to stabilize the learning.\n",
    "\n",
    "        env:                    a gymnasium environment\n",
    "        gamma:                  a float value indicating the discount factor γ\n",
    "        lr:                     a float value indicating the learning rate α\n",
    "        epsilon:                a float value indicating the action-selection probability ε\n",
    "        epsilon_min:            a float value indicating the minimum ε value\n",
    "        epsilon_decay:          a float value indicating the decay rate of ε\n",
    "        batch_size:             an int representing the batch size sampled from the experience\n",
    "        buffer_size:            an int representing the size of the memory buffer\n",
    "        target_update_freq:     an int representing how frequently the target network weights should be updated\n",
    "        train_freq:             an int representing how frequently training should occur\n",
    "        layers:                 an int representing the number of layers in each network\n",
    "        neurons:                an int representing the number of neurons in each network\n",
    "        seed:                   an int representing the random seed of the environment, for reproducability\n",
    "\n",
    "        nS:         an int representing the number of states observed, each of which is continuous\n",
    "        nA:         an int representing the number of discrete actions that can be taken\n",
    "\n",
    "        q_network:                  a Keras sequential neural network representing the actual function approximator\n",
    "        target_network:             a Keras sequential neural network representing responsible for generating Q-targets\n",
    "        experience:                 an empty deque used to hold the experience history of the agent, limited to buffer_size\n",
    "\n",
    "\n",
    "        \"\"\"\n",
    "        # object parameters:\n",
    "        self.env = env\n",
    "        self.gamma = gamma\n",
    "        self.lr = lr\n",
    "        self.epsilon = epsilon\n",
    "        self.epsilon_min = epsilon_min\n",
    "        self.epsilon_decay = epsilon_decay\n",
    "\n",
    "        # get the environment dimensions:\n",
    "        self.nS = self.env.observation_space.shape[0]\n",
    "        self.nA = self.env.action_space.n\n",
    "\n",
    "        # experience history and mini-batch size:\n",
    "        self.replay_buffer = deque(maxlen = buffer_size)\n",
    "        self.buffer_size = buffer_size\n",
    "        self.batch_size = batch_size\n",
    "        self.step_counter = 0\n",
    "\n",
    "        # initialize networks:\n",
    "        self.q_network = make_model(layers = layers, neurons = neurons, rate = lr,\n",
    "                                                norm = True, drop = True,\n",
    "                                                input_shape = self.nS, output_shape = self.nA,\n",
    "                                                loss_function = 'mse')\n",
    "        self.target_network = keras.models.clone_model(self.q_network)\n",
    "        self.target_network.set_weights(self.q_network.get_weights())\n",
    "\n",
    "        # set target update and training frequencies:\n",
    "        self.target_update_freq = target_update_freq\n",
    "        self.train_freq = train_freq\n",
    "\n",
    "        # set the seed:\n",
    "        self.seed = seed\n",
    "\n",
    "    ####################### TRAINING #######################\n",
    "    # define a decorated function to infer Q's from batched states (this is the implicit policy):\n",
    "    @tf.function\n",
    "    def get_qs(self, obs_batch):\n",
    "        return self.q_network(obs_batch)\n",
    "    \n",
    "    # define a decorated function to perform the DQN training step for updating Q network weights:\n",
    "    @tf.function\n",
    "    def training_step(self, states, actions, rewards, next_states, dones):\n",
    "        # track auto differentiation:\n",
    "        with tf.GradientTape() as tape:\n",
    "            # 1) do a forward pass to get Q values:\n",
    "            # this is all the Q values from every state:\n",
    "            q_all = self.q_network(states)\n",
    "\n",
    "            # find relevant index of actions that will be selected:\n",
    "            index = tf.stack([tf.range(tf.shape(actions)[0]), actions], axis = 1)\n",
    "\n",
    "            # gather up the Q values that correspond to actions actually taken:\n",
    "            q_selected = tf.gather_nd(q_all, index)\n",
    "\n",
    "            # 2) compute TD-targets:\n",
    "            # TD-target is computed with S', A', w-:\n",
    "            q_next = self.target_network(next_states)\n",
    "\n",
    "            # get the Q value corresponding to the max over the actions:\n",
    "            max_q_next = tf.reduce_max(q_next, axis = 1)\n",
    "\n",
    "            # compute actual TD-targets:\n",
    "            targets = tf.stop_gradient(rewards + (1 - dones) * self.gamma * max_q_next)\n",
    "\n",
    "            # 3) MSE loss between the Qs that correspond to taken actions and the TD-target:\n",
    "            loss = tf.reduce_mean(tf.square(q_selected - targets))\n",
    "        \n",
    "        # 4) backpropagate and update the weights:\n",
    "        grads = tape.gradient(loss, self.q_network.trainable_variables)\n",
    "        self.q_network.optimizer.apply_gradients(zip(grads, self.q_network.trainable_variables))\n",
    "\n",
    "    # training function:\n",
    "    def training(self, training_length):\n",
    "\n",
    "        reward_history = np.zeros(training_length)\n",
    "\n",
    "        # for every episode:\n",
    "        for episode in tqdm(range(training_length), colour = \"#33FF00\", ncols = 100, desc = \"training progress\"):\n",
    "            # reset environment:\n",
    "            obs, _ = self.env.reset()\n",
    "            episode_reward = 0\n",
    "            done = False\n",
    "\n",
    "            # while false:\n",
    "            while not done:\n",
    "                # ε-greedy policy:\n",
    "                if np.random.random() < self.epsilon:\n",
    "                    action = self.env.action_space.sample()\n",
    "                else:\n",
    "                    obs_batch = tf.expand_dims(tf.convert_to_tensor(obs, dtype=tf.float32), 0)\n",
    "                    qs = self.get_qs(obs_batch)\n",
    "                    action = tf.argmax(qs[0]).numpy()\n",
    "\n",
    "                # interact with the environment:\n",
    "                next_obs, reward, term, trunc, _ = self.env.step(action)\n",
    "                done = term or trunc\n",
    "                self.replay_buffer.append((obs, action, reward, next_obs, done))\n",
    "                obs = next_obs\n",
    "                episode_reward += reward\n",
    "                self.step_counter += 1\n",
    "\n",
    "                # sample a batch of experience:\n",
    "                if len(self.replay_buffer) >= self.batch_size and self.step_counter % self.train_freq == 0:\n",
    "                    # get a batch:\n",
    "                    batch = random.sample(self.replay_buffer, self.batch_size)\n",
    "\n",
    "                    # unpack the batch:\n",
    "                    states, actions, rewards, next_states, dones = zip(*batch)\n",
    "\n",
    "                    # convert to tensors:\n",
    "                    states = tf.convert_to_tensor(states, dtype = tf.float32)\n",
    "                    actions = tf.convert_to_tensor(actions, dtype = tf.int32)\n",
    "                    rewards = tf.convert_to_tensor(rewards, dtype = tf.float32)\n",
    "                    next_states = tf.convert_to_tensor(next_states, dtype = tf.float32)\n",
    "                    dones = tf.convert_to_tensor(dones, dtype = tf.float32)\n",
    "\n",
    "                    # single graph call:\n",
    "                    self.training_step(states, actions, rewards, next_states, dones)\n",
    "\n",
    "                    # update target network periodically:\n",
    "                    if self.step_counter % self.target_update_freq == 0:\n",
    "                        self.target_network.set_weights(self.q_network.get_weights())\n",
    "                \n",
    "            # decay epsilon:\n",
    "            self.epsilon = max(self.epsilon_min, self.epsilon * self.epsilon_decay)\n",
    "\n",
    "            # advance reward history:\n",
    "            reward_history[episode] = episode_reward\n",
    "        \n",
    "        return reward_history"
   ]
  },
  {
   "cell_type": "markdown",
   "id": "dc315781",
   "metadata": {},
   "source": [
    "##### Testing wrapper:"
   ]
  },
  {
   "cell_type": "code",
   "execution_count": null,
   "id": "35b2ecbf",
   "metadata": {},
   "outputs": [],
   "source": [
    "# import:\n",
    "from gymnasium import spaces\n",
    "\n",
    "# define the class for the wrapper:\n",
    "class SwingUpWrapper(gym.Wrapper):\n",
    "    # constructor:\n",
    "    def __init__(self, env):\n",
    "        # inherit from env:\n",
    "        super().__init__(env)\n",
    "\n",
    "        # need to change the observation space to accomodate downwards start:\n",
    "        # unwrap the TimeLimit wrapper into CartPoleEnv:\n",
    "        core = self.env.unwrapped\n",
    "\n",
    "        # set bounds:\n",
    "        x_thresh = core.x_threshold\n",
    "        low  = np.array([-x_thresh, -np.inf, -np.pi, -np.inf], dtype=np.float32)\n",
    "        high = np.array([ x_thresh,  np.inf,  np.pi,  np.inf], dtype=np.float32)\n",
    "        self.observation_space = spaces.Box(low, high, dtype=np.float32)\n",
    "\n",
    "    # redefine the reset function:\n",
    "    def reset(self, *, seed = None, options = None):\n",
    "        # reset the TimeLimit wrapped env:\n",
    "        obs, info = self.env.reset(seed = seed, options = options)\n",
    "\n",
    "        # unwrap the TimeLimit wrapper into CartPoleEnv:\n",
    "        core = self.env.unwrapped\n",
    "        \n",
    "        if core\n",
    "\n",
    "        # force pendulum downwards on the \"raw\" CartPoleEnv:\n",
    "        core = self.env.unwrapped \n",
    "        x, x_dot, theta, theta_dot = np.array([0, 0, np.pi, 0]) + core.np_random.normal(0, 0.1, size = 4)\n",
    "\n",
    "        # set the state:\n",
    "        core.state = (x, x_dot, theta, theta_dot)\n",
    "\n",
    "        # rebuild an observation from that state:\n",
    "        obs = np.array(core.state, dtype = np.float32)\n",
    "\n",
    "        # return:\n",
    "        return obs, info\n",
    "    \n",
    "    # redefine the step function:\n",
    "    def step(self, action):\n",
    "        # get returns from env.step:\n",
    "        obs, _, terminated, truncated, info = self.env.step(action)\n",
    "\n",
    "        # unwrap the TimeLimit wrapper into CartPoleEnv:\n",
    "        core = self.env.unwrapped\n",
    "\n",
    "        # unpack true angle from internal state:\n",
    "        x, x_dot, theta, theta_dot = core.state\n",
    "\n",
    "        # define the new reward = cos(theta) (maximize upright)\n",
    "        reward = (np.cos(theta) + 1) * (1 + 0.01 * theta_dot**2)\n",
    "\n",
    "        # ensure datatype:\n",
    "        obs = np.array(obs, dtype = np.float32)\n",
    "\n",
    "        # return:\n",
    "        return obs, reward, terminated, truncated, info"
   ]
  },
  {
   "cell_type": "markdown",
   "id": "c87fb751",
   "metadata": {},
   "source": [
    "# **Using the Environment**\n",
    "\n",
    "This section utilizes the above DQN to create an environment and train an agent."
   ]
  },
  {
   "cell_type": "markdown",
   "id": "7a3f1d3a",
   "metadata": {},
   "source": [
    "##### Specify hyperparameters:"
   ]
  },
  {
   "cell_type": "code",
   "execution_count": 70,
   "id": "a7fedfbb",
   "metadata": {},
   "outputs": [],
   "source": [
    "# agent hyperparameters:\n",
    "lr = 1e-5                   # learning rate α\n",
    "gamma = 0.99                # discount factor γ\n",
    "epsilon = 1.0               # starting value of ε\n",
    "epsilon_min = 0.1           # final value of ε\n",
    "epsilon_decay = 0.999       # decay rate of ε\n",
    "\n",
    "buffer_size = 2000          # size of the replay buffer\n",
    "batch_size = 32             # amount sampled from buffer\n",
    "target_update_freq = 1000   # number of elapsed steps before target network is updated\n",
    "train_freq = 1              # frequency at which the training occurs\n",
    "\n",
    "training_length = 2000      # how many episodes to train the network for\n",
    "warmup_length = 1000        # how many steps of experience to populate the replay buffer\n",
    "\n",
    "neurons = 128               # how many neurons to have in each layer of the network\n",
    "layers = 3                  # how many layers to have in each network\n",
    "\n",
    "seed = 18                   # random seed for reproducability"
   ]
  },
  {
   "cell_type": "markdown",
   "id": "7d9ae139",
   "metadata": {},
   "source": [
    "##### Initialize the environment and agent:"
   ]
  },
  {
   "cell_type": "code",
   "execution_count": 71,
   "id": "d5a4e369",
   "metadata": {},
   "outputs": [],
   "source": [
    "# create the environment:\n",
    "env = gym.make(\"CartPole-v1\")\n",
    "\n",
    "# wrap the environment:\n",
    "env = SwingUpWrapper(env)\n",
    "\n",
    "# clear backend:\n",
    "tf.keras.backend.clear_session()\n",
    "\n",
    "# instantiate the agent:\n",
    "dqn_agent = DQN_Agent(env = env, \n",
    "                  gamma = gamma, \n",
    "                  lr = lr,\n",
    "                  epsilon = epsilon,\n",
    "                  epsilon_min = epsilon_min,\n",
    "                  epsilon_decay = epsilon_decay,\n",
    "                  batch_size = batch_size, \n",
    "                  buffer_size = buffer_size,\n",
    "                  target_update_freq = target_update_freq, \n",
    "                  train_freq = train_freq,\n",
    "                  layers = layers,\n",
    "                  neurons = neurons, \n",
    "                  seed = seed)\n",
    "\n",
    "# seed environment:\n",
    "_, _ = dqn_agent.env.reset(seed = dqn_agent.seed)"
   ]
  },
  {
   "cell_type": "markdown",
   "id": "f97398db",
   "metadata": {},
   "source": [
    "##### Warm up the Experience Buffer with random examples:"
   ]
  },
  {
   "cell_type": "code",
   "execution_count": 72,
   "id": "da1cc52f",
   "metadata": {},
   "outputs": [],
   "source": [
    "# fill buffer with some random experience to warm it up:\n",
    "obs, _ = dqn_agent.env.reset()\n",
    "for _ in range(warmup_length):\n",
    "    # sample random action:\n",
    "    action = dqn_agent.env.action_space.sample()\n",
    "\n",
    "    # act on environment:\n",
    "    next_obs, reward, term, trunc, _ = dqn_agent.env.step(action)\n",
    "\n",
    "    # check for completion:\n",
    "    done = term or trunc\n",
    "\n",
    "    # append experience to agent's replay buffer:\n",
    "    dqn_agent.replay_buffer.append((obs, action, reward, next_obs, done))\n",
    "    obs = next_obs if not done else dqn_agent.env.reset()[0]"
   ]
  },
  {
   "cell_type": "markdown",
   "id": "3624eeda",
   "metadata": {},
   "source": [
    "##### Train the Network:"
   ]
  },
  {
   "cell_type": "code",
   "execution_count": 73,
   "id": "f61e11ab",
   "metadata": {},
   "outputs": [
    {
     "name": "stderr",
     "output_type": "stream",
     "text": [
      "training progress: 100%|\u001b[38;2;51;255;0m███████████████████████████████████████\u001b[0m| 2000/2000 [00:02<00:00, 672.81it/s]\u001b[0m\n"
     ]
    }
   ],
   "source": [
    "reward_history = dqn_agent.training(training_length = training_length)"
   ]
  },
  {
   "cell_type": "markdown",
   "id": "9c0038db",
   "metadata": {},
   "source": [
    "##### Plotting the results:"
   ]
  },
  {
   "cell_type": "code",
   "execution_count": 74,
   "id": "fad9a1cd",
   "metadata": {},
   "outputs": [
    {
     "data": {
      "text/plain": [
       "Text(0, 0.5, 'reward earned')"
      ]
     },
     "execution_count": 74,
     "metadata": {},
     "output_type": "execute_result"
    },
    {
     "data": {
      "image/png": "[encoded data removed]",
      "text/plain": [
       "<Figure size 1000x400 with 1 Axes>"
      ]
     },
     "metadata": {},
     "output_type": "display_data"
    }
   ],
   "source": [
    "# moving average function:\n",
    "def moving_average(interval, window_size):\n",
    "    window = np.ones(int(window_size)) / float(window_size)\n",
    "    return np.convolve(interval, window, 'same')\n",
    "\n",
    "filtered_data = moving_average(reward_history, 20)\n",
    "\n",
    "figure = plt.figure(figsize = (10, 4))\n",
    "plt.plot(reward_history)\n",
    "plt.plot(filtered_data, 'r-')\n",
    "plt.minorticks_on()\n",
    "plt.title(f\"α: {lr} | γ: {gamma} | $ε_{\"d\"}$: {epsilon_decay} | batch: {batch_size} | buffer: {buffer_size} | target update: {target_update_freq}\")\n",
    "plt.xlabel('episode')\n",
    "plt.ylabel('reward earned')"
   ]
  },
  {
   "cell_type": "markdown",
   "id": "4f1e78dc",
   "metadata": {},
   "source": [
    "## **Save the Model**\n",
    "\n",
    "This section saves the weights of the model, if the ``save_model`` flag is set."
   ]
  },
  {
   "cell_type": "code",
   "execution_count": 75,
   "id": "521226a7",
   "metadata": {},
   "outputs": [],
   "source": [
    "# flag on whether or not to save the model:\n",
    "save_model = False\n",
    "run_name = \"cartpole_3\"\n",
    "file_path = f\"weights/{run_name}/dqn_weights.weights.h5\"\n",
    "\n",
    "# save the weights of the model:\n",
    "if save_model:\n",
    "    dqn_agent.q_network.save_weights(file_path)"
   ]
  }
 ],
 "metadata": {
  "kernelspec": {
   "display_name": "venv (3.12.5)",
   "language": "python",
   "name": "python3"
  },
  "language_info": {
   "codemirror_mode": {
    "name": "ipython",
    "version": 3
   },
   "file_extension": ".py",
   "mimetype": "text/x-python",
   "name": "python",
   "nbconvert_exporter": "python",
   "pygments_lexer": "ipython3",
   "version": "3.12.5"
  }
 },
 "nbformat": 4,
 "nbformat_minor": 5
}
