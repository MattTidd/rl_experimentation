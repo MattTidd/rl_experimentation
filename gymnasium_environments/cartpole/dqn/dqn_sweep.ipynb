{
 "cells": [
  {
   "cell_type": "markdown",
   "id": "1cbaedc1",
   "metadata": {},
   "source": [
    "# **Introduction**\n",
    "\n",
    "This notebook is for testing hyperparameter optimization using `Optuna`, which is a hyperparameter optimization framework used to automate hyperparameter searching. The idea is to take the DQN implementation developed for `Cartpole`, both the base and swingup versions, and perform a hyperparameter search to optimize their performance using `Optuna`. The hyperparameters that will be optimized are:\n",
    "\n",
    "* The learning rate: α\n",
    "* The discount rate: γ\n",
    "* The epsilon decay rate: $ε_{d}$\n",
    "* The final epsilon value: $ε_{f}$\n",
    "* The replay buffer size: $n_{buff}$\n",
    "* The batch size: $n_{batch}$\n",
    "* The target update frequency: $f_{target}$\n",
    "* The training frequency: $f_{train}$\n",
    "* The training length: $n_{train}$\n",
    "* The warmup length: $n_{warm}$\n",
    "* The number of neurons per layer: $n_{neurons}$\n",
    "* The number of layers: $n_{layers}$\n",
    "\n",
    "With the goal being to maximize the average return per episode over a set number of trials. "
   ]
  },
  {
   "cell_type": "markdown",
   "id": "6180b6c7",
   "metadata": {},
   "source": [
    "# **Import Packages**\n",
    "\n",
    "This section imports the necessary packages."
   ]
  },
  {
   "cell_type": "code",
   "execution_count": null,
   "id": "06ce066c",
   "metadata": {},
   "outputs": [],
   "source": [
    "# import these packages:\n",
    "import gymnasium as gym\n",
    "from wrappers.swingup_wrapper import SwingUpWrapper\n",
    "import numpy as np\n",
    "import random\n",
    "import os\n",
    "from tqdm import tqdm\n",
    "import matplotlib.pyplot as plt\n",
    "\n",
    "import tensorflow as tf\n",
    "from tensorflow import keras\n",
    "from tensorflow.keras.layers import Input, Dense, BatchNormalization, Dropout\n",
    "from tensorflow.keras.optimizers import Adam\n",
    "\n",
    "from collections import deque"
   ]
  }
 ],
 "metadata": {
  "kernelspec": {
   "display_name": "venv (3.12.5)",
   "language": "python",
   "name": "python3"
  },
  "language_info": {
   "codemirror_mode": {
    "name": "ipython",
    "version": 3
   },
   "file_extension": ".py",
   "mimetype": "text/x-python",
   "name": "python",
   "nbconvert_exporter": "python",
   "pygments_lexer": "ipython3",
   "version": "3.12.5"
  }
 },
 "nbformat": 4,
 "nbformat_minor": 5
}
