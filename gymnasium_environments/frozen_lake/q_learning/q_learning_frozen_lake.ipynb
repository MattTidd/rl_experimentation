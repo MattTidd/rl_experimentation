{
 "cells": [
  {
   "cell_type": "markdown",
   "id": "f6c9d5b6",
   "metadata": {},
   "source": [
    "# **Introduction**\n",
    "\n",
    "This notebook is for implementing the base Q-Learning algorithm for off-policy control. Similar to other implementations, this will be done using the Frozen Lake environment offered through Gymnasium. Gymnasium is an open source Python library for developing and comparing reinforcement learning algorithms, through the use of a standardized API. The ``Env`` class in leveraged within Gymnasium to encapsulate an environment and the Markov Decision Process (MDP) that runs behind the scenes."
   ]
  },
  {
   "cell_type": "markdown",
   "id": "905977e3",
   "metadata": {},
   "source": [
    "# **Import Packages**\n",
    "\n",
    "This section imports the necessary packages."
   ]
  },
  {
   "cell_type": "code",
   "execution_count": 16,
   "id": "02c981a6",
   "metadata": {},
   "outputs": [],
   "source": [
    "# import these packages:\n",
    "import gymnasium as gym\n",
    "import numpy as np\n",
    "from tqdm import tqdm\n",
    "import matplotlib.pyplot as plt"
   ]
  },
  {
   "cell_type": "markdown",
   "id": "a37b0ce6",
   "metadata": {},
   "source": [
    "# **Environment Setup**\n",
    "\n",
    "This section sets up the environment and defines the relevant functions needed for this implementation."
   ]
  },
  {
   "cell_type": "code",
   "execution_count": 17,
   "id": "c8543cae",
   "metadata": {},
   "outputs": [],
   "source": [
    "# Q-Learning agent class:\n",
    "class Q_Agent:\n",
    "    ####################### INITIALIZATION #######################\n",
    "    # constructor:\n",
    "    def __init__(self, \n",
    "                 env : gym.Env,\n",
    "                 gamma: float, \n",
    "                 alpha: float,\n",
    "                 initial_epsilon: float,\n",
    "                 epsilon_decay: float,\n",
    "                 final_epsilon: float,\n",
    "                 es: bool,\n",
    "                 rs: bool):\n",
    "        \"\"\" \n",
    "        this is the constructor for the agent. this agent is an off-policy Q-Learning agent, meaning that the learned policy differs\n",
    "        from the policy that is used to learn that policy. this allows us to learn about an optimal policy while following an exploratory policy\n",
    "\n",
    "        env:        a gymnasium environment\n",
    "        gamma:      a float value indicating the discount factor\n",
    "        alpha:      a float value indicating the learning rate\n",
    "        initial epsilon:        a float value indicating the starting ε\n",
    "        epsilon_decay:          a float value indicating the decay rate of ε\n",
    "        final_epsilon:          a float vlaue indicating the final ε\n",
    "        es:         a boolean value indicating whether to use exploring starts or not\n",
    "        rs:         a boolean value indicating whether to use reward shaping or not\n",
    "                        if true:\n",
    "                            goal_value: +10.0\n",
    "                            hole_value: -1.0\n",
    "                        else:\n",
    "                            goal_value: +1.0\n",
    "                            hole_value: 0.0 (sparsely defined)\n",
    "        Q:          the estimate of the action-value function of q, initialized as zeros over all states and actions\n",
    "        \n",
    "        \"\"\"\n",
    "        # object parameters:\n",
    "        self.env = env\n",
    "        self.gamma = gamma\n",
    "        self.alpha = alpha\n",
    "        self.epsilon = initial_epsilon\n",
    "        self.epsilon_decay = epsilon_decay\n",
    "        self.final_epsilon = final_epsilon\n",
    "        self.es = es\n",
    "        self.rs = rs\n",
    "\n",
    "        # set the reward shaping:\n",
    "        if self.rs:\n",
    "            self.goal_value = 10.0\n",
    "            self.hole_value = -1.0\n",
    "\n",
    "        # get the number of states, number of actions:\n",
    "        self.nS, self.nA = env.observation_space.n, env.action_space.n\n",
    "\n",
    "        # get the terminal spaces of the current map:\n",
    "        desc = env.unwrapped.desc.astype(\"U1\")\n",
    "        chars = desc.flatten()\n",
    "        self.terminal_states = [i for i, c in enumerate(chars) if c in (\"H\", \"G\")]\n",
    "\n",
    "        # tabular Q-values:\n",
    "        self.Q = np.zeros((self.nS, self.nA))\n",
    "\n",
    "        # return to the user the metrics about the environment:\n",
    "        print(f\"Action Space is: {env.action_space}\")\n",
    "        print(f\"Observation Space is: {env.observation_space}\\n\")\n",
    "    \n",
    "    ####################### TRAINING #######################\n",
    "    # function to perform ε-greedy probability assignment:\n",
    "    def get_action_probs(self, Q):\n",
    "        \"\"\" \n",
    "        this function does the ε-greedy probability assignment for the actions available in a given state\n",
    "\n",
    "        Q:          a np.ndarray corresponding to the action-values of the actions available in a given state\n",
    "        returns:    probability of selecting each action\n",
    "\n",
    "        \"\"\"\n",
    "        # get the number of available actions:\n",
    "        m = len(Q)\n",
    "\n",
    "        # assign each action a base probability of ε/m:\n",
    "        p = np.ones(m)*(self.epsilon/m)\n",
    "\n",
    "        # find the index of the best Q value:\n",
    "        best = np.argmax(Q)\n",
    "\n",
    "        # give that one more probability by an amount equal to (1 - ε):\n",
    "        p[best] += 1.0 - self.epsilon\n",
    "\n",
    "        # this way the \"best\" action has a probability of ε/m + (1 - ε), meaning it will be chosen more often\n",
    "        # whereas the others have a probability of ε/m, so there is a probability that exploratory actions will be selected\n",
    "\n",
    "        # return the probability of selecting each action:\n",
    "        return p\n",
    "    \n",
    "    # ε-greedy policy function:\n",
    "    def policy(self, state):\n",
    "        \"\"\" \n",
    "        this is the ε-greedy policy itself, where it chooses an action based on the ε-greedy probabilities of each action\n",
    "\n",
    "        state:      an int representing the current state\n",
    "        returns:    a randomly selected action\n",
    "\n",
    "        \"\"\"\n",
    "        probs = self.get_action_probs(self.Q[state])    # for a given state, or row in Q\n",
    "        return np.random.choice(len(probs), p = probs)  # pick an action from the probabilities of each action\n",
    "\n",
    "    # epsilon decay function:\n",
    "    def decay_epsilon(self):\n",
    "        \"\"\"\n",
    "        this function is responsible for decaying the value of ε, thereby \n",
    "        reducing the exploration rate each episode\n",
    "\n",
    "        \"\"\"\n",
    "        self.epsilon = max(self.final_epsilon, self.epsilon - self.epsilon_decay)\n",
    "\n",
    "    # GPI function based on Q-Learning algorithm:\n",
    "    def GPI(self, num_episodes):\n",
    "        \"\"\"\n",
    "        this function performs the generalized policy iteration using Q-Learning as the update algorithm.\n",
    "\n",
    "        num_episodes:     number of desired episodes to train the agent on\n",
    "        returns:          the updated Q values\n",
    "\n",
    "        \"\"\"\n",
    "        for _ in tqdm(range(num_episodes), colour = \"#33FF00\", ncols = 100):\n",
    "            # if exploring starts:\n",
    "            if self.es:\n",
    "                non_terminals = [s for s in range(self.env.observation_space.n) if s not in self.terminal_states]\n",
    "                starting_state = np.random.choice(non_terminals)\n",
    "\n",
    "                # force env into starting state:\n",
    "                _, _ = self.env.reset()\n",
    "                self.env.unwrapped.s = starting_state\n",
    "                obs = starting_state\n",
    "            else:\n",
    "                obs, _ = self.env.reset()\n",
    "\n",
    "            # flag for finishing:\n",
    "            done = False\n",
    "\n",
    "            # while False:\n",
    "            while not done:\n",
    "                # choose A from S using policy derived from Q (e.g., ε-greedy):\n",
    "                action = self.policy(obs)                      \n",
    "                \n",
    "                # take action A, observe R, S':\n",
    "                next_obs, r, term, trunc, _ = self.env.step(action)\n",
    "\n",
    "                # if reward shaping:\n",
    "                if self.rs:\n",
    "                    if term and r == 0:\n",
    "                        r = self.hole_value     # fell in a hole\n",
    "                    elif term and r == 1:\n",
    "                        r = self.goal_value     # reached goal\n",
    "\n",
    "                # update Q using Q-Learning update rule:\n",
    "                self.Q[obs, action] += self.alpha * (r + self.gamma * max(self.Q[next_obs, :]) - self.Q[obs, action])\n",
    "\n",
    "                # advance state:\n",
    "                obs = next_obs\n",
    "\n",
    "                # check for completion:\n",
    "                done = term or trunc\n",
    "            \n",
    "            # decay ε:\n",
    "            self.decay_epsilon()\n",
    "\n",
    "        return self.Q\n",
    "\n",
    "    ####################### EVALUATION #######################\n",
    "    # average return per episode:\n",
    "    def average_return(self, num_episodes):\n",
    "            \"\"\" \n",
    "            this function computes the average return per episode for a given amount of episodes\n",
    "\n",
    "            agent:          the agent that has been trained\n",
    "            num_episode:    number of episodes to play out\n",
    "            returns:        the average return per episode\n",
    "            \n",
    "            \"\"\"\n",
    "            # initialize the total return received over the evaluation:\n",
    "            total_return = 0\n",
    "\n",
    "            # for every episode:\n",
    "            for _ in tqdm(range(num_episodes), colour = \"#33FF00\", ncols = 100):\n",
    "                    obs, _ = self.env.reset()      # must reset before an episode\n",
    "                    done = False                    # flag is set to False initially\n",
    "                    episode_return = 0              # reset return for the episode\n",
    "\n",
    "                    # while False:\n",
    "                    while not done:\n",
    "                            a = np.argmax(self.Q[obs])                     # pick best action from policy\n",
    "                            obs, r, term, trunc, _ = self.env.step(a)      # step that action\n",
    "                            episode_return += r     # increment the episode return by that return\n",
    "                            done = term or trunc    # set to True if term or trunc\n",
    "                    \n",
    "                    total_return += episode_return  # increment total return by episode return\n",
    "            \n",
    "            return round(total_return / num_episodes, 3)      # average return accross all episodes\n",
    "    \n",
    "    # success rate:\n",
    "    def success_rate(self, num_episodes):\n",
    "            \"\"\" \n",
    "            this function computes the success rate for a given amount of episodes\n",
    "\n",
    "            agent:          the agent that has been trained\n",
    "            num_episode:    number of episodes to play out\n",
    "            returns:        the success rate for that stretch of episodes\n",
    "            \n",
    "            \"\"\"\n",
    "            # initialize number of successes:\n",
    "            success = 0\n",
    "\n",
    "            # for every episode:\n",
    "            for _ in tqdm(range(num_episodes), colour = \"#33FF00\", ncols = 100):\n",
    "                    obs, _ = self.env.reset()      # must reset before an episode\n",
    "                    done = False                   # flag is set to False initially\n",
    "\n",
    "                    # while False:\n",
    "                    while not done:\n",
    "                            a = np.argmax(self.Q[obs])                     # pick best action from policy\n",
    "                            obs, r, term, trunc, _ = self.env.step(a)      # step that action\n",
    "                            done = term or trunc    # set to True if term or trunc\n",
    "\n",
    "                    # if at the goal pose\n",
    "                    if r == 1.0:\n",
    "                            success += 1    # increment the success counter\n",
    "\n",
    "            return round((success / num_episodes) * 100, 3)   # return success rate\n",
    "    \n",
    "            # average episode length:\n",
    "    \n",
    "    # average episode length:\n",
    "    def average_length(self, num_episodes):\n",
    "        \"\"\" \n",
    "        this function computes the average episode length for a given amount of episodes\n",
    "\n",
    "        agent:          the agent that has been trained\n",
    "        num_episodes:   number of episodes to play out\n",
    "        returns:        the average episode length for that stretch of episodes\n",
    "        \n",
    "        \"\"\"\n",
    "        # initialize the total number of steps over the evaluation:\n",
    "        total_steps = 0\n",
    "        \n",
    "        # for every episode:\n",
    "        for _ in tqdm(range(num_episodes), colour = \"#33FF00\", ncols = 100):\n",
    "                obs, _ = self.env.reset()      # must reset before an episode\n",
    "                done = False                   # flag is set to False initially\n",
    "                episode_steps = 0              # reset steps for the episode\n",
    "\n",
    "                # while False:\n",
    "                while not done:\n",
    "                        a = np.argmax(self.Q[obs])                     # pick best action from policy\n",
    "                        obs, _, term, trunc, _ = self.env.step(a)      # step that action\n",
    "                        episode_steps += 1                             # increment episode steps\n",
    "\n",
    "                        done = term or trunc    # set to True if term or trunc\n",
    "\n",
    "                total_steps += episode_steps    # increment total steps by steps taken in episode\n",
    "        \n",
    "        # return the average steps per episode to the user:\n",
    "        return round(total_steps / num_episodes, 3)\n"
   ]
  },
  {
   "cell_type": "markdown",
   "id": "a795cff0",
   "metadata": {},
   "source": [
    "# **Using the Environment: Deterministic**\n",
    "\n",
    "This section utilizes the above object-oriented approach to create an environment and train an agent, using the deterministic case where ``is_slippery = False``."
   ]
  },
  {
   "cell_type": "code",
   "execution_count": 18,
   "id": "756ca242",
   "metadata": {},
   "outputs": [
    {
     "name": "stdout",
     "output_type": "stream",
     "text": [
      "Action Space is: Discrete(4)\n",
      "Observation Space is: Discrete(16)\n",
      "\n"
     ]
    },
    {
     "name": "stderr",
     "output_type": "stream",
     "text": [
      "100%|\u001b[38;2;51;255;0m███████████████████████████████████████████████████\u001b[0m| 1000000/1000000 [01:49<00:00, 9168.00it/s]\u001b[0m\n"
     ]
    }
   ],
   "source": [
    "# agent hyperparameters:\n",
    "num_episodes = 1000000\n",
    "gamma = 0.99\n",
    "alpha = 0.1\n",
    "initial_epsilon = 1.0\n",
    "epsilon_decay = (0.75*initial_epsilon) / num_episodes\n",
    "final_epsilon = 0.1\n",
    "es = False\n",
    "rs = False\n",
    "\n",
    "# create training environment:\n",
    "env = gym.make(\"FrozenLake-v1\", is_slippery = False, render_mode = \"rgb_array\")\n",
    "\n",
    "# instantiate the agent:\n",
    "agent_det = Q_Agent(env = env, \n",
    "                    gamma = gamma, \n",
    "                    alpha = alpha,\n",
    "                    initial_epsilon = initial_epsilon,\n",
    "                    epsilon_decay = epsilon_decay,\n",
    "                    final_epsilon = final_epsilon, \n",
    "                    es = es,\n",
    "                    rs = rs)\n",
    "\n",
    "# learn value function using Q-Learning:\n",
    "q = agent_det.GPI(num_episodes = num_episodes).round(3)"
   ]
  },
  {
   "cell_type": "markdown",
   "id": "7ed52852",
   "metadata": {},
   "source": [
    "### **Benchmark the Learned Policy**\n",
    "\n",
    "This section uses the evaluation functions defined within the class to check how the learned policy fares over a set of episodes:"
   ]
  },
  {
   "cell_type": "code",
   "execution_count": 19,
   "id": "62630827",
   "metadata": {},
   "outputs": [
    {
     "name": "stderr",
     "output_type": "stream",
     "text": [
      "100%|\u001b[38;2;51;255;0m████████████████████████████████████████████████████████\u001b[0m| 1000/1000 [00:00<00:00, 29656.61it/s]\u001b[0m\n"
     ]
    },
    {
     "name": "stdout",
     "output_type": "stream",
     "text": [
      "The average return per episode for the deterministic case is: 1.0\n",
      "\n"
     ]
    },
    {
     "name": "stderr",
     "output_type": "stream",
     "text": [
      "100%|\u001b[38;2;51;255;0m████████████████████████████████████████████████████████\u001b[0m| 1000/1000 [00:00<00:00, 40466.03it/s]\u001b[0m\n"
     ]
    },
    {
     "name": "stdout",
     "output_type": "stream",
     "text": [
      "The average episode length for the deterministic case is: 6.0 steps\n",
      "\n"
     ]
    },
    {
     "name": "stderr",
     "output_type": "stream",
     "text": [
      "100%|\u001b[38;2;51;255;0m████████████████████████████████████████████████████████\u001b[0m| 1000/1000 [00:00<00:00, 50385.66it/s]\u001b[0m"
     ]
    },
    {
     "name": "stdout",
     "output_type": "stream",
     "text": [
      "The success rate for the deterministic case is: 100.0%\n"
     ]
    },
    {
     "name": "stderr",
     "output_type": "stream",
     "text": [
      "\n"
     ]
    }
   ],
   "source": [
    "# set num_episodes to the desired testing length:\n",
    "num_episodes = 1000\n",
    "\n",
    "# evaluate and print to the user:\n",
    "avg_return = agent_det.average_return(num_episodes)\n",
    "print(f\"The average return per episode for the deterministic case is: {avg_return}\\n\")\n",
    "\n",
    "avg_length = agent_det.average_length(num_episodes)\n",
    "print(f\"The average episode length for the deterministic case is: {avg_length} steps\\n\")\n",
    "\n",
    "success_rate = agent_det.success_rate(num_episodes)\n",
    "print(f\"The success rate for the deterministic case is: {success_rate}%\")"
   ]
  },
  {
   "cell_type": "markdown",
   "id": "733d18a9",
   "metadata": {},
   "source": [
    "### **Visualize the Learned Policy**\n",
    "\n",
    "This section visualizes the final policy that was learned and overlays a heatmap of the best action-value from the function $Q(s,a)$."
   ]
  },
  {
   "cell_type": "code",
   "execution_count": 20,
   "id": "a4811e74",
   "metadata": {},
   "outputs": [
    {
     "data": {
      "image/png": "[encoded data removed]",
      "text/plain": [
       "<Figure size 800x800 with 2 Axes>"
      ]
     },
     "metadata": {},
     "output_type": "display_data"
    }
   ],
   "source": [
    "# define mapping of actions to directions:\n",
    "action_map = {0: '←', 1: '↓', 2: '→', 3: '↑', 4: 'Terminal', 5 : 'Goal'}\n",
    "size = int(np.sqrt(agent_det.env.observation_space.n))\n",
    "grid = np.zeros(agent_det.env.observation_space.n, dtype = object)\n",
    "\n",
    "# for every state:\n",
    "for s in range(agent_det.env.observation_space.n):\n",
    "    if s in agent_det.terminal_states:\n",
    "        if s == 15:\n",
    "            action = 5\n",
    "        else:\n",
    "            action = 4\n",
    "    else:\n",
    "        action = np.argmax(q[s, :])\n",
    "\n",
    "    grid[s] = action_map[action]\n",
    "\n",
    "# reshape to look like map:\n",
    "grid = grid.reshape(size, size)\n",
    "\n",
    "# plot stuff:\n",
    "fig, ax = plt.subplots(figsize = (2*size, 2*size))\n",
    "\n",
    "# heatmap stuff:\n",
    "heatmap_value = np.max(q, axis = 1).reshape((4,4))\n",
    "heatmap = ax.imshow(heatmap_value, cmap = 'coolwarm', interpolation = 'nearest')\n",
    "\n",
    "# overlay text:\n",
    "for i in range(size):\n",
    "    for j in range(size):\n",
    "        text = grid[i, j]\n",
    "        ax.text(j, i, text, ha = 'center', va = 'center', color = 'black', fontsize = 16)\n",
    "\n",
    "# formatting:\n",
    "fig.colorbar(heatmap, ax = ax, label = 'Q')\n",
    "ax.set_title('ε-greedy policy - deterministic')\n",
    "ax.axis('off')\n",
    "\n",
    "plt.show()"
   ]
  },
  {
   "cell_type": "markdown",
   "id": "9afb749a",
   "metadata": {},
   "source": [
    "# **Using the Environment: Stochastic**\n",
    "\n",
    "This section utilizes the object-oriented approach to create an environment and train an agent, using the stochastic case where ``is_slippery = True``."
   ]
  },
  {
   "cell_type": "code",
   "execution_count": 21,
   "id": "399b9da7",
   "metadata": {},
   "outputs": [
    {
     "name": "stdout",
     "output_type": "stream",
     "text": [
      "Action Space is: Discrete(4)\n",
      "Observation Space is: Discrete(16)\n",
      "\n"
     ]
    },
    {
     "name": "stderr",
     "output_type": "stream",
     "text": [
      "100%|\u001b[38;2;51;255;0m███████████████████████████████████████████████████\u001b[0m| 1000000/1000000 [03:01<00:00, 5502.57it/s]\u001b[0m\n"
     ]
    }
   ],
   "source": [
    "# agent hyperparameters:\n",
    "num_episodes = 1000000\n",
    "gamma = 0.99\n",
    "alpha = 0.1\n",
    "initial_epsilon = 1.0\n",
    "epsilon_decay = (0.75 * initial_epsilon) / num_episodes\n",
    "final_epsilon = 0.1\n",
    "es = False\n",
    "rs = False\n",
    "\n",
    "# create training environment:\n",
    "env = gym.make(\"FrozenLake-v1\", is_slippery = True, render_mode = \"rgb_array\")\n",
    "\n",
    "# instantiate the agent:\n",
    "agent_sto = Q_Agent(env = env, \n",
    "                    gamma = gamma, \n",
    "                    alpha = alpha,\n",
    "                    initial_epsilon = initial_epsilon,\n",
    "                    epsilon_decay = epsilon_decay,\n",
    "                    final_epsilon = final_epsilon, \n",
    "                    es = es,\n",
    "                    rs = rs)\n",
    "\n",
    "# learn value function using Q-Learning:\n",
    "q = agent_sto.GPI(num_episodes = num_episodes).round(3)"
   ]
  },
  {
   "cell_type": "markdown",
   "id": "4f9671b3",
   "metadata": {},
   "source": [
    "### **Benchmark the Learned Policy**\n",
    "\n",
    "This section uses the evaluation functions defined within the class to check how the learned policy fares over a set of episodes."
   ]
  },
  {
   "cell_type": "code",
   "execution_count": 22,
   "id": "6ec9a344",
   "metadata": {},
   "outputs": [
    {
     "name": "stderr",
     "output_type": "stream",
     "text": [
      "100%|\u001b[38;2;51;255;0m███████████████████████████████████████████████████████\u001b[0m| 10000/10000 [00:01<00:00, 5010.75it/s]\u001b[0m\n"
     ]
    },
    {
     "name": "stdout",
     "output_type": "stream",
     "text": [
      "The average return per episode for the stochastic case is: 0.742\n",
      "\n"
     ]
    },
    {
     "name": "stderr",
     "output_type": "stream",
     "text": [
      "100%|\u001b[38;2;51;255;0m███████████████████████████████████████████████████████\u001b[0m| 10000/10000 [00:02<00:00, 4999.89it/s]\u001b[0m\n"
     ]
    },
    {
     "name": "stdout",
     "output_type": "stream",
     "text": [
      "The average episode length for the stochastic case is: 44.573 steps\n",
      "\n"
     ]
    },
    {
     "name": "stderr",
     "output_type": "stream",
     "text": [
      "100%|\u001b[38;2;51;255;0m███████████████████████████████████████████████████████\u001b[0m| 10000/10000 [00:02<00:00, 4893.04it/s]\u001b[0m"
     ]
    },
    {
     "name": "stdout",
     "output_type": "stream",
     "text": [
      "The success rate for the stochastic case is: 73.94%\n"
     ]
    },
    {
     "name": "stderr",
     "output_type": "stream",
     "text": [
      "\n"
     ]
    }
   ],
   "source": [
    "# set num_episodes to desired testing length:\n",
    "num_episodes = 10000\n",
    "\n",
    "# evaluate and print to the user:\n",
    "avg_return = agent_sto.average_return(num_episodes)\n",
    "print(f\"The average return per episode for the stochastic case is: {avg_return}\\n\")\n",
    "\n",
    "avg_length = agent_sto.average_length(num_episodes)\n",
    "print(f\"The average episode length for the stochastic case is: {avg_length} steps\\n\")\n",
    "\n",
    "success_rate = agent_sto.success_rate(num_episodes)\n",
    "print(f\"The success rate for the stochastic case is: {success_rate}%\")"
   ]
  },
  {
   "cell_type": "markdown",
   "id": "8588b2a9",
   "metadata": {},
   "source": [
    "### **Visualize the Learned Policy**\n",
    "\n",
    "This section visualizes the final policy that was learned and overlays a heatmap of the action-value function $Q(s,a)$."
   ]
  },
  {
   "cell_type": "code",
   "execution_count": 23,
   "id": "61405c0a",
   "metadata": {},
   "outputs": [
    {
     "data": {
      "image/png": "[encoded data removed]",
      "text/plain": [
       "<Figure size 800x800 with 2 Axes>"
      ]
     },
     "metadata": {},
     "output_type": "display_data"
    }
   ],
   "source": [
    "# define mapping of actions to directions:\n",
    "action_map = {0: '←', 1: '↓', 2: '→', 3: '↑', 4: 'Terminal', 5 : 'Goal'}\n",
    "size = int(np.sqrt(agent_sto.env.observation_space.n))\n",
    "grid = np.zeros(agent_sto.env.observation_space.n, dtype = object)\n",
    "\n",
    "# for every state:\n",
    "for s in range(agent_sto.env.observation_space.n):\n",
    "    if s in agent_sto.terminal_states:\n",
    "        if s == 15:\n",
    "            action = 5\n",
    "        else:\n",
    "            action = 4\n",
    "    else:\n",
    "        action = np.argmax(q[s, :])\n",
    "\n",
    "    grid[s] = action_map[action]\n",
    "\n",
    "# reshape to look like map:\n",
    "grid = grid.reshape(size, size)\n",
    "\n",
    "# plot stuff:\n",
    "fig, ax = plt.subplots(figsize = (2*size, 2*size))\n",
    "\n",
    "# heatmap stuff:\n",
    "heatmap_value = np.max(q, axis = 1).reshape((4,4))\n",
    "heatmap = ax.imshow(heatmap_value, cmap = 'coolwarm', interpolation = 'nearest')\n",
    "\n",
    "# overlay text:\n",
    "for i in range(size):\n",
    "    for j in range(size):\n",
    "        text = grid[i, j]\n",
    "        ax.text(j, i, text, ha = 'center', va = 'center', color = 'black', fontsize = 16)\n",
    "\n",
    "# formatting:\n",
    "fig.colorbar(heatmap, ax = ax, label = 'Q')\n",
    "ax.set_title('ε-greedy policy - stochastic')\n",
    "ax.axis('off')\n",
    "\n",
    "plt.show()"
   ]
  }
 ],
 "metadata": {
  "kernelspec": {
   "display_name": "venv",
   "language": "python",
   "name": "python3"
  },
  "language_info": {
   "codemirror_mode": {
    "name": "ipython",
    "version": 3
   },
   "file_extension": ".py",
   "mimetype": "text/x-python",
   "name": "python",
   "nbconvert_exporter": "python",
   "pygments_lexer": "ipython3",
   "version": "3.12.5"
  }
 },
 "nbformat": 4,
 "nbformat_minor": 5
}
