{
 "cells": [
  {
   "cell_type": "markdown",
   "id": "41603e85",
   "metadata": {},
   "source": [
    "# **Introduction**\n",
    "\n",
    "This notebook is for performing hyperparameter sweeps on the algorithms that have been designed thus far."
   ]
  },
  {
   "cell_type": "markdown",
   "id": "3991f016",
   "metadata": {},
   "source": [
    "# **Import Packages**\n",
    "\n",
    "This section imports the necessary packages."
   ]
  },
  {
   "cell_type": "code",
   "execution_count": null,
   "id": "4373b9c9",
   "metadata": {},
   "outputs": [],
   "source": [
    "# Import these packages:\n",
    "import gymnasium as gym\n",
    "import numpy as np\n",
    "from tqdm import tqdm \n",
    "import matplotlib.pyplot as plt\n",
    "\n",
    "import json\n",
    "import os\n",
    "import itertools\n",
    "from frozen_lake_classes import GLIE_MC_Agent, SARSA_0_Agent, SARSA_L_Agent"
   ]
  },
  {
   "cell_type": "markdown",
   "id": "9941c50d",
   "metadata": {},
   "source": [
    "# **Environment Definition**\n",
    "\n",
    "This section defines the relevant objects and functions to perform the hyperparameter sweep."
   ]
  },
  {
   "cell_type": "markdown",
   "id": "bf868a35",
   "metadata": {},
   "source": [
    "### **Sweep Parameters**"
   ]
  },
  {
   "cell_type": "code",
   "execution_count": null,
   "id": "6a69d510",
   "metadata": {},
   "outputs": [],
   "source": [
    "# set the model to evaluate:\n",
    "model_types = [\"GLIE_MC\", \"SARSA_0\", \"SARSA_L\"]\n",
    "\n",
    "for model_type in model_types:\n",
    "\n",
    "    # set the environment:\n",
    "    env = gym.make(\"FrozenLake-v1\", is_slippery = True, render_mode = 'rgb_array')\n",
    "    train_length = int(2.5e6)\n",
    "\n",
    "    # must first define the grid of values to be examined:\n",
    "    grid = {\n",
    "        \"gamma\" : [0.90, 0.99],\n",
    "        \"epsilon_decay\" : [0.5/train_length, 0.75/train_length, 2/train_length],\n",
    "    }\n",
    "\n",
    "    # append λ if the model uses a λ method:\n",
    "    if not model_type == \"GLIE_MC\":\n",
    "        grid[\"alpha\"] = [0.05, 0.1, 0.25, 0.5]\n",
    "        if model_type == \"SARSA_L\":\n",
    "            grid[\"lamb\"] = [0.8, 0.9, 0.95]\n",
    "\n",
    "    # get cartesian product of all combinations:\n",
    "    keys, values = zip(*grid.items())\n",
    "    combos = [dict(zip(keys, v)) for v in itertools.product(*values)]\n",
    "\n",
    "    # initialize results:\n",
    "    results = []\n",
    "\n",
    "    # output directory:\n",
    "    out_dir = f\"sweep_results/{model_type}\"\n",
    "    os.makedirs(out_dir, exist_ok = True)\n",
    "\n",
    "    for params in combos:\n",
    "        # create a filename and path:\n",
    "        fname = \"_\".join(f\"{k}{v}\" for k,v in params.items()) + \".json\"\n",
    "        path = os.path.join(out_dir, fname)\n",
    "\n",
    "        # need to make a model with those params:\n",
    "        match model_type:\n",
    "            case \"GLIE_MC\":\n",
    "                agent = GLIE_MC_Agent(env, **params, es = False, rs = False, initial_epsilon = 1.0, final_epsilon = 0.1)\n",
    "            case \"SARSA_0\":\n",
    "                agent = SARSA_0_Agent(env, **params, es = False, rs = False, initial_epsilon = 1.0, final_epsilon = 0.1)\n",
    "            case \"SARSA_L\":\n",
    "                agent = SARSA_L_Agent(env, **params, es = False, rs = False, initial_epsilon = 1.0, final_epsilon = 0.1)\n",
    "        \n",
    "        # train the model:\n",
    "        q = agent.GPI(num_episodes = train_length)\n",
    "\n",
    "        # evaluate:\n",
    "        success = agent.success_rate(num_episodes = 1000)\n",
    "        avg_return = agent.average_return(num_episodes = 1000)\n",
    "        avg_length = agent.average_length(num_episodes = 1000)\n",
    "\n",
    "        # metrics dict:\n",
    "        metrics = {\"success_rate\" : success, \"avg_return\" : avg_return, \"avg_length\" : avg_length}\n",
    "\n",
    "        # store results:\n",
    "        result = {\n",
    "            \"params\" : params,\n",
    "            \"metrics\" : metrics\n",
    "        }\n",
    "\n",
    "        results.append(result)\n",
    "\n",
    "        # dump results:\n",
    "        with open(path, \"w\") as f:\n",
    "            json.dump(result, f, indent = 2)"
   ]
  }
 ],
 "metadata": {
  "kernelspec": {
   "display_name": "venv",
   "language": "python",
   "name": "python3"
  },
  "language_info": {
   "codemirror_mode": {
    "name": "ipython",
    "version": 3
   },
   "file_extension": ".py",
   "mimetype": "text/x-python",
   "name": "python",
   "nbconvert_exporter": "python",
   "pygments_lexer": "ipython3",
   "version": "3.12.5"
  }
 },
 "nbformat": 4,
 "nbformat_minor": 5
}
