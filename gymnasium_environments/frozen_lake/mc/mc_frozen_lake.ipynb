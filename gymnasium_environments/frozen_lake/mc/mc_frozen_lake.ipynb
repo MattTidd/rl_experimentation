{
 "cells": [
  {
   "cell_type": "markdown",
   "id": "a431a9c5",
   "metadata": {},
   "source": [
    "# **Introduction**\n",
    "\n",
    "This notebook is for implementing a Monte-Carlo reinforcement learning method on the Frozen Lake environment offered through the Gymnasium environment. Gymnasium is an open source Python library for developing and comparing reinforcement learning algorithms, through the use of a standardized API. There are four key functions to Gymnasium, namely: ```make()```, ```Env.reset()```, ```Env.step()```, and ```Env.render()```.\n",
    "\n",
    "As per its [introductory documentation](https://gymnasium.farama.org/introduction/basic_usage/), the core of Gymnasium lies in the high-level Python class ```Env```, which approximately represents a Markov Decision Process (MDP) from reinforcement learning theory. This class allows users of Gymnasium to start new episodes, take actions, and visualize the agent's current state. "
   ]
  },
  {
   "cell_type": "markdown",
   "id": "5a48474e",
   "metadata": {},
   "source": [
    "# **Import Packages**\n",
    "\n",
    "This section imports the necessary packages."
   ]
  },
  {
   "cell_type": "code",
   "execution_count": 1,
   "id": "9cc2a33a",
   "metadata": {},
   "outputs": [],
   "source": [
    "# import these:\n",
    "import gymnasium as gym\n",
    "import numpy as np\n",
    "from tqdm import tqdm\n",
    "import matplotlib.pyplot as plt"
   ]
  },
  {
   "cell_type": "markdown",
   "id": "47facdbe",
   "metadata": {},
   "source": [
    "# **Environment Setup**\n",
    "\n",
    "This section sets up the environment and defines the relevant functions needed for this implementation. "
   ]
  },
  {
   "cell_type": "code",
   "execution_count": 2,
   "id": "83987ba5",
   "metadata": {},
   "outputs": [],
   "source": [
    "# MC-Agent Class:\n",
    "class GLIE_MC_Agent:\n",
    "        ####################### INITIALIZATION #######################\n",
    "        # constructor:\n",
    "        def __init__(self, \n",
    "                     env: gym.Env, \n",
    "                     gamma: float, \n",
    "                     initial_epsilon: float, \n",
    "                     epsilon_decay: float, \n",
    "                     final_epsilon: float,\n",
    "                     es : bool, \n",
    "                     rs: bool):\n",
    "                \"\"\"\n",
    "                this is the constructor for the agent. this agent is a monte-carlo agent, meaning that it averages the returns\n",
    "                for each Q(s,a) at the end of the episode\n",
    "\n",
    "                env:    a gymnasium environment\n",
    "                gamma:  a float value indicating the discounting factor\n",
    "                initial_epsilon:        a float value indicating the starting ε\n",
    "                epsilon_decay:          a float value indicating the decay rate of ε\n",
    "                final_epsilon:          a float value indicating the final ε\n",
    "                es:     a boolean value indicating whether to use exploring starts or not\n",
    "                rs:     a boolean value indicating whether to use custom rewards or not\n",
    "                                if true:\n",
    "                                        goal_value:     +10.0\n",
    "                                        hole_value:     -1.0\n",
    "                                else:\n",
    "                                        goal_value:     +1.0\n",
    "                                        hole_value:     0.0 (sparsely defined)\n",
    "                Q:      the estimate of the action-value function q, initialized as zeros over all states and actions\n",
    "                \n",
    "                \"\"\"\n",
    "                # object parameters:\n",
    "                self.env = env\n",
    "                self.gamma = gamma\n",
    "                self.epsilon = initial_epsilon\n",
    "                self.epsilon_decay = epsilon_decay\n",
    "                self.final_epsilon = final_epsilon\n",
    "                self.es = es\n",
    "                self.rs = rs\n",
    "\n",
    "                # reward shaping:\n",
    "                if self.rs:\n",
    "                        self.goal_value = 10.0\n",
    "                        self.hole_value = -1.0\n",
    "                else:\n",
    "                        self.goal_value = 1.0\n",
    "                        self.hole_value = 0.0\n",
    "\n",
    "                # get the number of states, number of actions:\n",
    "                nS, nA = env.observation_space.n, env.action_space.n\n",
    "\n",
    "                # get the terminal spaces of the current map:\n",
    "                desc = env.unwrapped.desc.astype('U1')\n",
    "                chars = desc.flatten()\n",
    "                self.terminal_states = [i for i, c in enumerate(chars) if c in ('H','G')]\n",
    "\n",
    "                # tabular Q-values, and counter N(s,a):\n",
    "                self.Q = np.zeros((nS, nA))\n",
    "                self.visits = np.zeros((nS, nA), dtype = int)         # how many times I have been to a state, and taken an action         \n",
    "\n",
    "                # return to the user the metrics about the environment:\n",
    "                print(f\"Action Space is: {env.action_space}\")\n",
    "                print(f\"Observation Space is: {env.observation_space}\\n\")\n",
    "        \n",
    "        ####################### TRAINING #######################\n",
    "        # function to perform ε-greedy probability assignment:\n",
    "        def get_action_probs(self, Q):\n",
    "                \"\"\" \n",
    "                this function does the ε-greedy probability assignment for the actions available in a given state\n",
    "\n",
    "                Q:         a np.ndarray corresponding to the action-values of the actions available in a given state\n",
    "                returns:   probability of selecting each action\n",
    "                \n",
    "                \"\"\"\n",
    "                # get the number of available actions:\n",
    "                m = len(Q)\n",
    "\n",
    "                # assign each action a base probability of ε/m\n",
    "                p = np.ones(m)*(self.epsilon/m)\n",
    "\n",
    "                # find the index of the best Q value\n",
    "                best = np.argmax(Q)\n",
    "\n",
    "                # give that one more probability by an amount equal to (1 - ε):\n",
    "                p[best] += 1.0 - self.epsilon\n",
    "\n",
    "                # this way the \"best\" action has a probability of ε/m + (1-ε), meaning it will be chosen more often\n",
    "                # whereas the others have a probability of ε/m, so there is a probability that exploratory actions will be selected\n",
    "\n",
    "                # return the probability of selecting each action:\n",
    "                return p\n",
    "        \n",
    "        # ε-greedy policy function:\n",
    "        def policy(self, state):\n",
    "                \"\"\" \n",
    "                this is the ε-greedy policy itself, where it chooses an action based on the ε-greedy probabilities of each action\n",
    "\n",
    "                state:   an int representing the current state\n",
    "                returns: a randomly selected action\n",
    "\n",
    "                \"\"\"\n",
    "                probs = self.get_action_probs(self.Q[state])    # for a given state, or row in Q\n",
    "                return np.random.choice(len(probs), p = probs)  # pick an action from the probabilities of each action\n",
    "        \n",
    "        # epsilon decay function:\n",
    "        def decay_epsilon(self):\n",
    "                \"\"\"\n",
    "                this function is responsible for decaying the value of ε, thereby \n",
    "                reducing the exploration rate each episode\n",
    "\n",
    "                \"\"\"\n",
    "                self.epsilon = max(self.final_epsilon, self.epsilon - self.epsilon_decay)\n",
    "\n",
    "        # episode generation function:\n",
    "        def generate_episode(self):\n",
    "                \"\"\" \n",
    "                this function is used to generate and run through episodes\n",
    "\n",
    "                returns: a list of (obs, a, r) tuples\n",
    "\n",
    "                \"\"\"\n",
    "                episode = []    # empty list for returns\n",
    "\n",
    "                # exploring starts:\n",
    "                if self.es:\n",
    "                        non_terminals = [s for s in range(self.env.observation_space.n) if s not in self.terminal_states]\n",
    "                        starting_state = np.random.choice(non_terminals)\n",
    "\n",
    "                        # force env into starting state:\n",
    "                        _, _ = self.env.reset()\n",
    "                        self.env.unwrapped.s = starting_state \n",
    "                        obs = starting_state\n",
    "                else:\n",
    "                        obs, _ = self.env.reset()\n",
    "\n",
    "                # flag for when to stop episode\n",
    "                done = False\n",
    "\n",
    "                while not done:\n",
    "                        a = self.policy(obs)    # select an action based on the current state\n",
    "\n",
    "                        next_obs, r, term, trunc, _ = self.env.step(a)    # take the action\n",
    "\n",
    "                        # custom reward shaping:\n",
    "                        if self.rs:\n",
    "                                if term and r == 0:\n",
    "                                        r = self.hole_value  # fell in hole\n",
    "                                elif term and r == 1:\n",
    "                                        r = self.goal_value  # reached goal\n",
    "\n",
    "                        episode.append((obs, a, r))     # trajectories are given by {S_1, A_1, R_2, ... , S_T} \n",
    "                        obs = next_obs          # advance the state\n",
    "                        done = term or trunc    # set done to True if term (terminal state) or trunc (environment cut episode short)\n",
    "\n",
    "                # return episode information for GPI\n",
    "                return episode\n",
    "        \n",
    "        def update_Q(self, episode):\n",
    "                \"\"\" \n",
    "                this function updates the Q estimation using incremental every-visit MC at the end of an episode\n",
    "\n",
    "                episode: the (s, a, r) list\n",
    "\n",
    "                \"\"\"\n",
    "                g = 0   # initial return value\n",
    "                for (s, a, r) in reversed(episode):\n",
    "                        g = r + self.gamma * g  # get the return for that state\n",
    "                        self.visits[s, a] += 1  # increment visits\n",
    "                        n = self.visits[s, a]   # visit counter is used in the update rule\n",
    "\n",
    "                        # update Q(s, a) based on update rule:\n",
    "                        self.Q[s, a] += (g - self.Q[s, a]) / n\n",
    "        \n",
    "        # actual policy iteration:\n",
    "        def GPI(self, num_episodes):\n",
    "                \"\"\" \n",
    "                this function performs the generalized policy iteration, using GLIE evaluation and ε-greedy policy improvement\n",
    "\n",
    "                num_episode: number of episodes to play out\n",
    "                returns:     the updated Q values\n",
    "                \n",
    "                \"\"\"\n",
    "                for _ in tqdm(range(num_episodes), colour = \"#33FF00\", ncols = 100):\n",
    "                        # 1) play out an entire episode:\n",
    "                        episode = self.generate_episode()\n",
    "\n",
    "                        # 2) perform incremental, every-visit MC after the episode to approximate Q(s,a):\n",
    "                        self.update_Q(episode)\n",
    "\n",
    "                        # 3) GLIE uses a decaying ε schedule:\n",
    "                        self.decay_epsilon()\n",
    "\n",
    "                return self.Q\n",
    "        \n",
    "        ####################### EVALUATION #######################\n",
    "        # average return per episode:\n",
    "        def average_return(self, num_episodes):\n",
    "                \"\"\" \n",
    "                this function computes the average return per episode for a given amount of episodes\n",
    "\n",
    "                agent:          the agent that has been trained\n",
    "                num_episode:    number of episodes to play out\n",
    "                returns:        the average return per episode\n",
    "                \n",
    "                \"\"\"\n",
    "                # initialize the total return received over the evaluation:\n",
    "                total_return = 0\n",
    "\n",
    "                # for every episode:\n",
    "                for _ in tqdm(range(num_episodes), colour = \"#33FF00\", ncols = 100):\n",
    "                        obs, _ = self.env.reset()      # must reset before an episode\n",
    "                        done = False                   # flag is set to False initially\n",
    "                        episode_return = 0             # reset return for the episode\n",
    "\n",
    "                        # while False:\n",
    "                        while not done:\n",
    "                                a = np.argmax(self.Q[obs])                     # pick best action from policy\n",
    "                                obs, r, term, trunc, _ = self.env.step(a)      # step that action\n",
    "                                episode_return += r     # increment the episode return by that return\n",
    "                                done = term or trunc    # set to True if term or trunc\n",
    "                        \n",
    "                        total_return += episode_return  # increment total return by episode return\n",
    "                \n",
    "                return round(total_return / num_episodes, 3)      # average return accross all episodes\n",
    "        \n",
    "        # success rate:\n",
    "        def success_rate(self, num_episodes):\n",
    "                \"\"\" \n",
    "                this function computes the success rate for a given amount of episodes\n",
    "\n",
    "                agent:          the agent that has been trained\n",
    "                num_episode:    number of episodes to play out\n",
    "                returns:        the success rate for that stretch of episodes\n",
    "                \n",
    "                \"\"\"\n",
    "                # initialize number of successes:\n",
    "                success = 0\n",
    "\n",
    "                # for every episode:\n",
    "                for _ in tqdm(range(num_episodes), colour = \"#33FF00\", ncols = 100):\n",
    "                        obs, _ = self.env.reset()      # must reset before an episode\n",
    "                        done = False                   # flag is set to False initially\n",
    "\n",
    "                        # while False:\n",
    "                        while not done:\n",
    "                                a = np.argmax(self.Q[obs])                     # pick best action from policy\n",
    "                                obs, r, term, trunc, _ = self.env.step(a)      # step that action\n",
    "                                done = term or trunc    # set to True if term or trunc\n",
    "\n",
    "                        # if at the goal pose\n",
    "                        if r == 1.0:\n",
    "                                success += 1    # increment the success counter\n",
    "\n",
    "                return round((success / num_episodes) * 100, 3)   # return success rate\n",
    "        \n",
    "        # average episode length:\n",
    "        def average_length(self, num_episodes):\n",
    "                \"\"\" \n",
    "                this function computes the average episode length for a given amount of episodes\n",
    "\n",
    "                agent:          the agent that has been trained\n",
    "                num_episodes:   number of episodes to play out\n",
    "                returns:        the average episode length for that stretch of episodes\n",
    "                \n",
    "                \"\"\"\n",
    "                # initialize the total number of steps over the evaluation:\n",
    "                total_steps = 0\n",
    "                \n",
    "                # for every episode:\n",
    "                for _ in tqdm(range(num_episodes), colour = \"#33FF00\", ncols = 100):\n",
    "                        obs, _ = self.env.reset()      # must reset before an episode\n",
    "                        done = False                   # flag is set to False initially\n",
    "                        episode_steps = 0              # reset steps for the episode\n",
    "\n",
    "                        # while False:\n",
    "                        while not done:\n",
    "                                a = np.argmax(self.Q[obs])                     # pick best action from policy\n",
    "                                obs, _, term, trunc, _ = self.env.step(a)      # step that action\n",
    "                                episode_steps += 1                              # increment episode steps\n",
    "\n",
    "                                done = term or trunc    # set to True if term or trunc\n",
    "\n",
    "                        total_steps += episode_steps    # increment total steps by steps taken in episode\n",
    "                \n",
    "                # return the average steps per episode to the user:\n",
    "                return round(total_steps / num_episodes, 3)\n"
   ]
  },
  {
   "cell_type": "markdown",
   "id": "b168a863",
   "metadata": {},
   "source": [
    "# **Using the Environment: Deterministic**\n",
    "\n",
    "This section utilizes the above object-oriented approach to create an environment and train an agent, using the deterministic case where ``is_slippery = False``."
   ]
  },
  {
   "cell_type": "code",
   "execution_count": 6,
   "id": "6efeda89",
   "metadata": {},
   "outputs": [
    {
     "name": "stdout",
     "output_type": "stream",
     "text": [
      "Action Space is: Discrete(4)\n",
      "Observation Space is: Discrete(16)\n",
      "\n"
     ]
    },
    {
     "name": "stderr",
     "output_type": "stream",
     "text": [
      "100%|\u001b[38;2;51;255;0m██████████████████████████████████████████████████\u001b[0m| 2500000/2500000 [04:05<00:00, 10188.39it/s]\u001b[0m\n"
     ]
    }
   ],
   "source": [
    "# agent hyperparameters:\n",
    "num_episodes = int(2.5e6)\n",
    "gamma = 0.99\n",
    "initial_epsilon = 1.0\n",
    "epsilon_decay = (2*initial_epsilon) / num_episodes\n",
    "final_epsilon = 0.1\n",
    "es = False\n",
    "rs = False\n",
    "\n",
    "# create training environment:\n",
    "env = gym.make(\"FrozenLake-v1\", is_slippery = False)\n",
    "\n",
    "# instantiate the agent:\n",
    "agent_det = GLIE_MC_Agent(env = env, \n",
    "                          gamma = gamma,\n",
    "                          initial_epsilon = initial_epsilon,\n",
    "                          epsilon_decay = epsilon_decay,\n",
    "                          final_epsilon = final_epsilon, \n",
    "                          es = es, \n",
    "                          rs = rs)\n",
    "\n",
    "# learn value function using MC:\n",
    "q = agent_det.GPI(num_episodes = num_episodes).round(3)"
   ]
  },
  {
   "cell_type": "markdown",
   "id": "cde0bb65",
   "metadata": {},
   "source": [
    "### **Benchmark the Learned Policy**\n",
    "\n",
    "This section uses the evaluation functions defined within the class to check how the learned policy fares over a set of episodes."
   ]
  },
  {
   "cell_type": "code",
   "execution_count": 7,
   "id": "59a55691",
   "metadata": {},
   "outputs": [
    {
     "name": "stderr",
     "output_type": "stream",
     "text": [
      "100%|\u001b[38;2;51;255;0m████████████████████████████████████████████████████████\u001b[0m| 1000/1000 [00:00<00:00, 28922.64it/s]\u001b[0m\n"
     ]
    },
    {
     "name": "stdout",
     "output_type": "stream",
     "text": [
      "The average return per episode for the deterministic case is: 1.0\n",
      "\n"
     ]
    },
    {
     "name": "stderr",
     "output_type": "stream",
     "text": [
      "100%|\u001b[38;2;51;255;0m████████████████████████████████████████████████████████\u001b[0m| 1000/1000 [00:00<00:00, 30662.58it/s]\u001b[0m\n"
     ]
    },
    {
     "name": "stdout",
     "output_type": "stream",
     "text": [
      "The average episode length for the deterministic case is: 6.0 steps\n",
      "\n"
     ]
    },
    {
     "name": "stderr",
     "output_type": "stream",
     "text": [
      "100%|\u001b[38;2;51;255;0m████████████████████████████████████████████████████████\u001b[0m| 1000/1000 [00:00<00:00, 29818.95it/s]\u001b[0m"
     ]
    },
    {
     "name": "stdout",
     "output_type": "stream",
     "text": [
      "The success rate for the deterministic case is: 100.0%\n"
     ]
    },
    {
     "name": "stderr",
     "output_type": "stream",
     "text": [
      "\n"
     ]
    }
   ],
   "source": [
    "# set num_episodes to desired testing length:\n",
    "num_episodes = 1000\n",
    "\n",
    "# evaluate and print to the user:\n",
    "avg_return = agent_det.average_return(num_episodes)\n",
    "print(f\"The average return per episode for the deterministic case is: {avg_return}\\n\")\n",
    "\n",
    "avg_length = agent_det.average_length(num_episodes)\n",
    "print(f\"The average episode length for the deterministic case is: {avg_length} steps\\n\")\n",
    "\n",
    "success_rate = agent_det.success_rate(num_episodes)\n",
    "print(f\"The success rate for the deterministic case is: {success_rate}%\")"
   ]
  },
  {
   "cell_type": "markdown",
   "id": "7b896d9e",
   "metadata": {},
   "source": [
    "### **Visualize the Learned Policy**\n",
    "\n",
    "This section visualizes the final policy that was learned and overlays a heatmap of the action-value function $Q(s,a)$."
   ]
  },
  {
   "cell_type": "code",
   "execution_count": 8,
   "id": "3cb661dc",
   "metadata": {},
   "outputs": [
    {
     "data": {
      "image/png": "[encoded data removed]",
      "text/plain": [
       "<Figure size 800x800 with 2 Axes>"
      ]
     },
     "metadata": {},
     "output_type": "display_data"
    }
   ],
   "source": [
    "# define mapping of actions to directions:\n",
    "action_map = {0: '←', 1: '↓', 2: '→', 3: '↑', 4: 'Terminal', 5 : 'Goal'}\n",
    "size = int(np.sqrt(agent_det.env.observation_space.n))\n",
    "grid = np.zeros(agent_det.env.observation_space.n, dtype = object)\n",
    "\n",
    "# for every state:\n",
    "for s in range(agent_det.env.observation_space.n):\n",
    "    if s in agent_det.terminal_states:\n",
    "        if s == 15:\n",
    "            action = 5\n",
    "        else:\n",
    "            action = 4\n",
    "    else:\n",
    "        action = np.argmax(q[s, :])\n",
    "\n",
    "    grid[s] = action_map[action]\n",
    "\n",
    "# reshape to look like map:\n",
    "grid = grid.reshape(size, size)\n",
    "\n",
    "# plot stuff:\n",
    "fig, ax = plt.subplots(figsize = (2*size, 2*size))\n",
    "\n",
    "# heatmap stuff:\n",
    "heatmap_value = np.max(q, axis = 1).reshape((4,4))\n",
    "heatmap = ax.imshow(heatmap_value, cmap = 'coolwarm', interpolation = 'nearest')\n",
    "\n",
    "# overlay text:\n",
    "for i in range(size):\n",
    "    for j in range(size):\n",
    "        text = grid[i, j]\n",
    "        ax.text(j, i, text, ha = 'center', va = 'center', color = 'black', fontsize = 16)\n",
    "\n",
    "# formatting:\n",
    "fig.colorbar(heatmap, ax = ax, label = 'Q')\n",
    "ax.set_title('ε-greedy policy - deterministic')\n",
    "ax.axis('off')\n",
    "\n",
    "plt.show()"
   ]
  },
  {
   "cell_type": "markdown",
   "id": "5d44bff7",
   "metadata": {},
   "source": [
    "# **Using the Environment: Stochastic**\n",
    "\n",
    "This section utilizes the object-oriented approach to create an environment and train an agent, using the stochastic case where ``is_slippery = True``."
   ]
  },
  {
   "cell_type": "code",
   "execution_count": 9,
   "id": "fb412e99",
   "metadata": {},
   "outputs": [
    {
     "name": "stdout",
     "output_type": "stream",
     "text": [
      "Action Space is: Discrete(4)\n",
      "Observation Space is: Discrete(16)\n",
      "\n"
     ]
    },
    {
     "name": "stderr",
     "output_type": "stream",
     "text": [
      "100%|\u001b[38;2;51;255;0m███████████████████████████████████████████████████\u001b[0m| 2500000/2500000 [07:09<00:00, 5814.98it/s]\u001b[0m\n"
     ]
    }
   ],
   "source": [
    "# agent hyperparameters:\n",
    "num_episodes = int(2.5e6)\n",
    "gamma = 0.99\n",
    "initial_epsilon = 1.0\n",
    "epsilon_decay = (0.75*initial_epsilon) / num_episodes\n",
    "final_epsilon = 0.1\n",
    "es = False\n",
    "rs = False\n",
    "\n",
    "# create training environment:\n",
    "env = gym.make(\"FrozenLake-v1\", is_slippery = True)\n",
    "\n",
    "# instantiate the agent: \n",
    "agent_sto = GLIE_MC_Agent(env = env, \n",
    "                          gamma = gamma,\n",
    "                          initial_epsilon = initial_epsilon,\n",
    "                          epsilon_decay = epsilon_decay,\n",
    "                          final_epsilon = final_epsilon,\n",
    "                          es = es, \n",
    "                          rs = rs)\n",
    "\n",
    "# learn value function using MC:\n",
    "q = agent_sto.GPI(num_episodes = num_episodes).round(3)"
   ]
  },
  {
   "cell_type": "markdown",
   "id": "fd017f71",
   "metadata": {},
   "source": [
    "### **Benchmark the Learned Policy**\n",
    "\n",
    "This section uses the evaluation functions defined within the class to check how the learned policy fares over a set of episodes."
   ]
  },
  {
   "cell_type": "code",
   "execution_count": 17,
   "id": "03a6802e",
   "metadata": {},
   "outputs": [
    {
     "name": "stderr",
     "output_type": "stream",
     "text": [
      "100%|\u001b[38;2;51;255;0m█████████████████████████████████████████████████████\u001b[0m| 100000/100000 [00:19<00:00, 5203.03it/s]\u001b[0m\n"
     ]
    },
    {
     "name": "stdout",
     "output_type": "stream",
     "text": [
      "The average return per episode for the stochastic case is: 0.731\n",
      "\n"
     ]
    },
    {
     "name": "stderr",
     "output_type": "stream",
     "text": [
      "100%|\u001b[38;2;51;255;0m█████████████████████████████████████████████████████\u001b[0m| 100000/100000 [00:18<00:00, 5346.20it/s]\u001b[0m\n"
     ]
    },
    {
     "name": "stdout",
     "output_type": "stream",
     "text": [
      "The average episode length for the stochastic case is: 41.331 steps\n",
      "\n"
     ]
    },
    {
     "name": "stderr",
     "output_type": "stream",
     "text": [
      "100%|\u001b[38;2;51;255;0m█████████████████████████████████████████████████████\u001b[0m| 100000/100000 [00:18<00:00, 5323.23it/s]\u001b[0m"
     ]
    },
    {
     "name": "stdout",
     "output_type": "stream",
     "text": [
      "The success rate for the stochastic case is: 73.053%\n"
     ]
    },
    {
     "name": "stderr",
     "output_type": "stream",
     "text": [
      "\n"
     ]
    }
   ],
   "source": [
    "# set num_episodes to desired testing length:\n",
    "num_episodes = 100000\n",
    "\n",
    "# evaluate and print to the user:\n",
    "avg_return = agent_sto.average_return(num_episodes)\n",
    "print(f\"The average return per episode for the stochastic case is: {avg_return}\\n\")\n",
    "\n",
    "avg_length = agent_sto.average_length(num_episodes)\n",
    "print(f\"The average episode length for the stochastic case is: {avg_length} steps\\n\")\n",
    "\n",
    "success_rate = agent_sto.success_rate(num_episodes)\n",
    "print(f\"The success rate for the stochastic case is: {success_rate}%\")"
   ]
  },
  {
   "cell_type": "markdown",
   "id": "c8f662eb",
   "metadata": {},
   "source": [
    "### **Visualize the Learned Policy**\n",
    "\n",
    "This section visualizes the final policy that was learned and overlays a heatmap of the action-value function $Q(s,a)$."
   ]
  },
  {
   "cell_type": "code",
   "execution_count": 18,
   "id": "03e6c29b",
   "metadata": {},
   "outputs": [
    {
     "data": {
      "image/png": "[encoded data removed]",
      "text/plain": [
       "<Figure size 800x800 with 2 Axes>"
      ]
     },
     "metadata": {},
     "output_type": "display_data"
    }
   ],
   "source": [
    "# define mapping of actions to directions:\n",
    "action_map = {0: '←', 1: '↓', 2: '→', 3: '↑', 4: 'Terminal', 5 : 'Goal'}\n",
    "size = int(np.sqrt(agent_sto.env.observation_space.n))\n",
    "grid = np.zeros(agent_sto.env.observation_space.n, dtype = object)\n",
    "\n",
    "# for every state:\n",
    "for s in range(agent_sto.env.observation_space.n):\n",
    "    if s in agent_sto.terminal_states:\n",
    "        if s == 15:\n",
    "            action = 5\n",
    "        else:\n",
    "            action = 4\n",
    "    else:\n",
    "        action = np.argmax(q[s, :])\n",
    "\n",
    "    grid[s] = action_map[action]\n",
    "\n",
    "# reshape to look like map:\n",
    "grid = grid.reshape(size, size)\n",
    "\n",
    "# plot stuff:\n",
    "fig, ax = plt.subplots(figsize = (2*size, 2*size))\n",
    "\n",
    "# heatmap stuff:\n",
    "heatmap_value = np.max(q, axis = 1).reshape((4,4))\n",
    "heatmap = ax.imshow(heatmap_value, cmap = 'coolwarm', interpolation = 'nearest')\n",
    "\n",
    "# overlay text:\n",
    "for i in range(size):\n",
    "    for j in range(size):\n",
    "        text = grid[i, j]\n",
    "        ax.text(j, i, text, ha = 'center', va = 'center', color = 'black', fontsize = 16)\n",
    "\n",
    "# formatting:\n",
    "fig.colorbar(heatmap, ax = ax, label = 'Q')\n",
    "ax.set_title('ε-greedy policy - stochastic')\n",
    "ax.axis('off')\n",
    "\n",
    "plt.show()"
   ]
  }
 ],
 "metadata": {
  "kernelspec": {
   "display_name": "venv",
   "language": "python",
   "name": "python3"
  },
  "language_info": {
   "codemirror_mode": {
    "name": "ipython",
    "version": 3
   },
   "file_extension": ".py",
   "mimetype": "text/x-python",
   "name": "python",
   "nbconvert_exporter": "python",
   "pygments_lexer": "ipython3",
   "version": "3.12.5"
  }
 },
 "nbformat": 4,
 "nbformat_minor": 5
}
