{
 "cells": [
  {
   "cell_type": "markdown",
   "id": "a431a9c5",
   "metadata": {},
   "source": [
    "# **Introduction**\n",
    "\n",
    "This notebook is for implementing a Monte-Carlo reinforcement learning method on the Frozen Lake environment offered through the Gymnasium environment. Gymnasium is an open source Python library for developing and comparing reinforcement learning algorithms, through the use of a standardized API. There are four key functions to Gymnasium, namely: ```make()```, ```Env.reset()```, ```Env.step()```, and ```Env.render()```.\n",
    "\n",
    "As per its [introductory documentation](https://gymnasium.farama.org/introduction/basic_usage/), the core of Gymnasium lies in the high-level Python class ```Env```, which approximately represents a Markov Decision Process (MDP) from reinforcement learning theory. This class allows users of Gymnasium to start new episodes, take actions, and visualize the agent's current state. "
   ]
  },
  {
   "cell_type": "markdown",
   "id": "5a48474e",
   "metadata": {},
   "source": [
    "# **Import Packages**\n",
    "\n",
    "This section imports the necessary packages."
   ]
  },
  {
   "cell_type": "code",
   "execution_count": 400,
   "id": "9cc2a33a",
   "metadata": {},
   "outputs": [],
   "source": [
    "# import these:\n",
    "import gymnasium as gym\n",
    "import numpy as np\n",
    "from tqdm import tqdm\n",
    "import matplotlib.pyplot as plt"
   ]
  },
  {
   "cell_type": "markdown",
   "id": "47facdbe",
   "metadata": {},
   "source": [
    "# **Environment Setup**\n",
    "\n",
    "This section sets up the environment and defines the relevant functions needed for this implementation. "
   ]
  },
  {
   "cell_type": "code",
   "execution_count": 401,
   "id": "83987ba5",
   "metadata": {},
   "outputs": [],
   "source": [
    "# MC-Agent Class:\n",
    "class GLIE_MC_Agent:\n",
    "        # constructor:\n",
    "        def __init__(self, env: gym.Env, gamma: float, es : bool, cr: bool):\n",
    "                \"\"\"\n",
    "                this is the constructor for the agent. this agent is a monte-carlo agent, meaning that it averages the returns\n",
    "                for each Q(s,a) at the end of the episode\n",
    "\n",
    "                env: a gymnasium environment\n",
    "                gamma: a float value indicating the discounting factor\n",
    "                es: a boolean value indicating whether to use exploring starts or not\n",
    "                cr: a boolean value indicating whether to use custom rewards or not\n",
    "                        custom rewards are: -1 for holes, +10 for goal\n",
    "                        default rewards are: +0 for holes, +1 for goal\n",
    "\n",
    "                Q: the estimate of the action-value function q, initialized as zeros over all states and actions\n",
    "                \n",
    "                \"\"\"\n",
    "                # object parameters:\n",
    "                self.env = env\n",
    "                self.gamma = gamma\n",
    "                self.es = es\n",
    "                self.cr = cr\n",
    "\n",
    "                # get the number of states, number of actions:\n",
    "                nS, nA = env.observation_space.n, env.action_space.n\n",
    "\n",
    "                # get the terminal spaces of the current map:\n",
    "                desc = env.unwrapped.desc.astype('U1')\n",
    "                chars = desc.flatten()\n",
    "                self.terminal_states = [i for i, c in enumerate(chars) if c in ('H','G')]\n",
    "\n",
    "                # tabular Q-values, and counter N(s,a):\n",
    "                self.Q = np.zeros((nS, nA))\n",
    "                self.visits = np.zeros((nS, nA), dtype = int)         # how many times I have been to a state, and taken an action         \n",
    "\n",
    "                # return to the user the metrics about the environment:\n",
    "                print(f\"Action Space is: {env.action_space}\")\n",
    "                print(f\"Observation Space is: {env.observation_space}\\n\")\n",
    "\n",
    "        # function to perform epsilon-greedy probability assignment:\n",
    "        def get_action_probs(self, Q):\n",
    "                \"\"\" \n",
    "                this function does the epsilon-greedy probability assignment for the actions available in a given state\n",
    "\n",
    "                Q: a np.ndarray corresponding to the action-values of the actions available in a given state\n",
    "\n",
    "                p: probability of selecting each action\n",
    "                \n",
    "                \"\"\"\n",
    "                # get the number of available actions:\n",
    "                m = len(Q)\n",
    "\n",
    "                # assign each action a base probability of e/m\n",
    "                p = np.ones(m)*(self.epsilon/m)\n",
    "\n",
    "                # find the index of the best Q value\n",
    "                best = np.argmax(Q)\n",
    "\n",
    "                # give that one more probability by an amount equal to (1 - e):\n",
    "                p[best] += 1.0 - self.epsilon\n",
    "\n",
    "                # this way the \"best\" action has a probability of e/m + (1-e), meaning it will be chosen more often\n",
    "                # whereas the others have a probability of e/m, so there is a probability that exploratory actions will be selected\n",
    "\n",
    "                # return the probability of selecting each action:\n",
    "                return p\n",
    "        \n",
    "        # epsilon-greedy policy function:\n",
    "        def policy(self, state):\n",
    "                \"\"\" \n",
    "                this is the epsilon-greedy policy itself, where it chooses an action based on the epsilon-greedy probabilities of each action\n",
    "\n",
    "                state: just an int representing the current state, 0-3\n",
    "\n",
    "                returns a randomly selected action\n",
    "\n",
    "                \"\"\"\n",
    "                probs = self.get_action_probs(self.Q[state])    # for a given state, or row in Q\n",
    "                # print(f\"probabilities are: {probs}\")            # print statement for debugging probabilities of row\n",
    "                return np.random.choice(len(probs), p = probs)  # pick an action from the probabilities of each action\n",
    "        \n",
    "        # episode generation function:\n",
    "        def generate_episode(self):\n",
    "                \"\"\" \n",
    "                this function is used to generate and run through episodes. \n",
    "\n",
    "                returns a list of (obs, a, r) tuples\n",
    "\n",
    "                \"\"\"\n",
    "                episode = []    # empty list for returns\n",
    "\n",
    "                # exploring starts:\n",
    "                if self.es:\n",
    "                        non_terminals = [s for s in range(self.env.observation_space.n) if s not in self.terminal_states]\n",
    "                        starting_state = np.random.choice(non_terminals)\n",
    "\n",
    "                        # force env into starting state:\n",
    "                        _, _ = self.env.reset()\n",
    "                        self.env.unwrapped.s = starting_state \n",
    "                        obs = starting_state\n",
    "                else:\n",
    "                        obs, _ = self.env.reset()\n",
    "\n",
    "                # flag for when to stop episode\n",
    "                done = False\n",
    "\n",
    "                while not done:\n",
    "                        a = self.policy(obs)    # select an action based on the current state\n",
    "\n",
    "                        next_obs, r, term, trunc, _ = self.env.step(a)    # take the action\n",
    "\n",
    "                        # custom reward shaping:\n",
    "                        if self.cr:\n",
    "                                if term and r == 0:\n",
    "                                        r = -1  # fell in hole\n",
    "                                elif term and r == 1:\n",
    "                                        r = 10.0  # reached goal\n",
    "\n",
    "                        episode.append((obs, a, r))     # trajectories are given by {S_1, A_1, R_2, ... , S_T} \n",
    "                        obs = next_obs          # advance the state\n",
    "                        done = term or trunc    # set done to True if term (terminal state) or trunc (environment cut episode short)\n",
    "\n",
    "                # return episode information for GPI\n",
    "                return episode\n",
    "        \n",
    "        def update_Q(self, episode):\n",
    "                \"\"\" \n",
    "                this function updates the Q estimation using incremental every-visit MC at the end of an episode.\n",
    "\n",
    "                episode: the (s, a, r) list\n",
    "\n",
    "                \"\"\"\n",
    "                g = 0   # initial return value\n",
    "                for (s, a, r) in reversed(episode):\n",
    "                        g = r + self.gamma * g\n",
    "                        self.visits[s, a] += 1\n",
    "                        n = self.visits[s, a]\n",
    "                        self.Q[s, a] += (g - self.Q[s, a]) / n\n",
    "        \n",
    "        # actual policy iteration:\n",
    "        def GPI(self, num_episodes):\n",
    "                \"\"\" \n",
    "                this function performs the generalized policy iteration, using GLIE evaluation and epsilon-greedy policy improvement\n",
    "\n",
    "                num_episode: number of episodes to play out\n",
    "\n",
    "                returns the updated Q values\n",
    "                \n",
    "                \"\"\"\n",
    "                for k in tqdm(range(num_episodes)):\n",
    "                        # GLIE uses a decaying epsilon schedule:\n",
    "                        # self.epsilon = max(0.1, 1 / (0.005*k + 1))\n",
    "                        self.epsilon = 1.0 / (0.005*k + 1)\n",
    "\n",
    "                        # 1) play out an entire episode:\n",
    "                        episode = self.generate_episode()\n",
    "\n",
    "                        # 2) perform incremental, every-visit MC after the episode to approximate Q(s,a):\n",
    "                        self.update_Q(episode)\n",
    "\n",
    "                return self.Q"
   ]
  },
  {
   "cell_type": "markdown",
   "id": "b168a863",
   "metadata": {},
   "source": [
    "# **Using the Environment**\n",
    "\n",
    "This section utilizes the above object-oriented implementation of RL to create an environment, train an agent, and then visualize the final value function that was learned. "
   ]
  },
  {
   "cell_type": "code",
   "execution_count": 402,
   "id": "6efeda89",
   "metadata": {},
   "outputs": [
    {
     "name": "stdout",
     "output_type": "stream",
     "text": [
      "Action Space is: Discrete(4)\n",
      "Observation Space is: Discrete(16)\n",
      "\n"
     ]
    },
    {
     "name": "stderr",
     "output_type": "stream",
     "text": [
      "100%|██████████| 250000/250000 [00:24<00:00, 10380.09it/s]\n"
     ]
    }
   ],
   "source": [
    "# create training environment:\n",
    "env = gym.make(\"FrozenLake-v1\", is_slippery = False)\n",
    "\n",
    "# instantiate the agent\n",
    "agent = GLIE_MC_Agent(env = env, gamma = 0.99, es = False, cr = False)\n",
    "num_episodes = 250000\n",
    "\n",
    "# learn value functions using MC:\n",
    "q = agent.GPI(num_episodes = num_episodes).round(3)"
   ]
  },
  {
   "cell_type": "markdown",
   "id": "2494deee",
   "metadata": {},
   "source": [
    "Print these learned value functions separately:"
   ]
  },
  {
   "cell_type": "code",
   "execution_count": 403,
   "id": "c42918b1",
   "metadata": {},
   "outputs": [
    {
     "name": "stdout",
     "output_type": "stream",
     "text": [
      "action-value function q: [[0.689 0.945 0.614 0.685]\n",
      " [0.189 0.    0.729 0.17 ]\n",
      " [0.256 0.804 0.233 0.339]\n",
      " [0.308 0.    0.098 0.188]\n",
      " [0.794 0.957 0.    0.737]\n",
      " [0.    0.    0.    0.   ]\n",
      " [0.    0.921 0.    0.576]\n",
      " [0.    0.    0.    0.   ]\n",
      " [0.847 0.    0.968 0.844]\n",
      " [0.875 0.979 0.924 0.   ]\n",
      " [0.629 0.98  0.    0.685]\n",
      " [0.    0.    0.    0.   ]\n",
      " [0.    0.    0.    0.   ]\n",
      " [0.    0.944 0.99  0.906]\n",
      " [0.919 0.976 1.    0.944]\n",
      " [0.    0.    0.    0.   ]]\n",
      "\n"
     ]
    }
   ],
   "source": [
    "print(f\"action-value function q: {q}\\n\")"
   ]
  },
  {
   "cell_type": "markdown",
   "id": "7b896d9e",
   "metadata": {},
   "source": [
    "# **Visualize the Learned Policy**\n",
    "\n",
    "Can now visualize the learned policy:"
   ]
  },
  {
   "cell_type": "code",
   "execution_count": 404,
   "id": "3cb661dc",
   "metadata": {},
   "outputs": [
    {
     "data": {
      "image/png": "[encoded data removed]",
      "text/plain": [
       "<Figure size 800x800 with 2 Axes>"
      ]
     },
     "metadata": {},
     "output_type": "display_data"
    }
   ],
   "source": [
    "# define mapping of actions to directions:\n",
    "action_map = {0: '←', 1: '↓', 2: '→', 3: '↑', None: 'Terminal'}\n",
    "size = int(np.sqrt(agent.env.observation_space.n))\n",
    "grid = np.zeros(agent.env.observation_space.n, dtype = object)\n",
    "\n",
    "# for every state:\n",
    "for s in range(agent.env.observation_space.n):\n",
    "    if s in agent.terminal_states:\n",
    "        action = None\n",
    "    else:\n",
    "        action = np.argmax(q[s, :])\n",
    "\n",
    "    grid[s] = action_map[action]\n",
    "\n",
    "# reshape to look like map\n",
    "grid = grid.reshape(size, size)\n",
    "\n",
    "# plot stuff:\n",
    "fig, ax = plt.subplots(figsize = (2*size, 2*size))\n",
    "\n",
    "# heatmap stuff:\n",
    "heatmap_value = np.max(q, axis = 1).reshape((4,4))\n",
    "heatmap = ax.imshow(heatmap_value, cmap = 'coolwarm', interpolation = 'nearest')\n",
    "\n",
    "# overlay text:\n",
    "for i in range(size):\n",
    "    for j in range(size):\n",
    "        text = grid[i, j]\n",
    "        ax.text(j, i, text, ha = 'center', va = 'center', color = 'black', fontsize = 16)\n",
    "\n",
    "# formatting:\n",
    "fig.colorbar(heatmap, ax = ax, label = 'Q')\n",
    "ax.set_title('ε-greedy policy')\n",
    "ax.axis('off')\n",
    "\n",
    "plt.show()"
   ]
  }
 ],
 "metadata": {
  "kernelspec": {
   "display_name": "venv",
   "language": "python",
   "name": "python3"
  },
  "language_info": {
   "codemirror_mode": {
    "name": "ipython",
    "version": 3
   },
   "file_extension": ".py",
   "mimetype": "text/x-python",
   "name": "python",
   "nbconvert_exporter": "python",
   "pygments_lexer": "ipython3",
   "version": "3.12.5"
  }
 },
 "nbformat": 4,
 "nbformat_minor": 5
}
