{
 "cells": [
  {
   "cell_type": "markdown",
   "id": "f9b6cc13",
   "metadata": {},
   "source": [
    "# **Introduction**\n",
    "\n",
    "This notebook is for testing stable baselines."
   ]
  },
  {
   "cell_type": "markdown",
   "id": "3dfb9701",
   "metadata": {},
   "source": [
    "# **Import Packages**\n",
    "\n",
    "Import the necessary packages for this implementation.\n"
   ]
  },
  {
   "cell_type": "code",
   "execution_count": 4,
   "id": "ebdefd30",
   "metadata": {},
   "outputs": [],
   "source": [
    "# import these:\n",
    "import gymnasium as gym\n",
    "import numpy as np\n",
    "from stable_baselines3 import SAC"
   ]
  },
  {
   "cell_type": "markdown",
   "id": "45153f6f",
   "metadata": {},
   "source": [
    "USE:"
   ]
  },
  {
   "cell_type": "code",
   "execution_count": 5,
   "id": "3cb5dfd4",
   "metadata": {},
   "outputs": [
    {
     "data": {
      "text/plain": [
       "<stable_baselines3.sac.sac.SAC at 0x226031f3110>"
      ]
     },
     "execution_count": 5,
     "metadata": {},
     "output_type": "execute_result"
    }
   ],
   "source": [
    "env = gym.make(\"InvertedPendulum-v5\")\n",
    "model = SAC(\"MlpPolicy\", env, verbose = 0)\n",
    "model.learn(total_timesteps = 50000)"
   ]
  }
 ],
 "metadata": {
  "kernelspec": {
   "display_name": "venv (3.12.5)",
   "language": "python",
   "name": "python3"
  },
  "language_info": {
   "codemirror_mode": {
    "name": "ipython",
    "version": 3
   },
   "file_extension": ".py",
   "mimetype": "text/x-python",
   "name": "python",
   "nbconvert_exporter": "python",
   "pygments_lexer": "ipython3",
   "version": "3.12.5"
  }
 },
 "nbformat": 4,
 "nbformat_minor": 5
}
