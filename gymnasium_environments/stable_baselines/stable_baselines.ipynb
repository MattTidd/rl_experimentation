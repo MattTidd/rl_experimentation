{
 "cells": [
  {
   "cell_type": "markdown",
   "id": "f9b6cc13",
   "metadata": {},
   "source": [
    "# **Introduction**\n",
    "\n",
    "This notebook is for testing stable baselines."
   ]
  },
  {
   "cell_type": "markdown",
   "id": "3dfb9701",
   "metadata": {},
   "source": [
    "# **Import Packages**\n",
    "\n",
    "Import the necessary packages for this implementation.\n"
   ]
  },
  {
   "cell_type": "code",
   "execution_count": 4,
   "id": "ebdefd30",
   "metadata": {},
   "outputs": [],
   "source": [
    "# import these:\n",
    "import gymnasium as gym\n",
    "import numpy as np\n",
    "from stable_baselines3 import SAC"
   ]
  },
  {
   "cell_type": "markdown",
   "id": "45153f6f",
   "metadata": {},
   "source": [
    "USE:"
   ]
  },
  {
   "cell_type": "code",
   "execution_count": null,
   "id": "3cb5dfd4",
   "metadata": {},
   "outputs": [
    {
     "data": {
      "text/plain": [
       "<stable_baselines3.sac.sac.SAC at 0x226031f3110>"
      ]
     },
     "execution_count": 5,
     "metadata": {},
     "output_type": "execute_result"
    }
   ],
   "source": [
    "env = gym.make(\"InvertedPendulum-v5\")\n",
    "model = SAC(\"MlpPolicy\", env, verbose = 0)\n",
    "model.learn(total_timesteps = 50000)"
   ]
  },
  {
   "cell_type": "markdown",
   "id": "27bb8cee",
   "metadata": {},
   "source": [
    "TEST:"
   ]
  },
  {
   "cell_type": "code",
   "execution_count": 9,
   "id": "98a13cf8",
   "metadata": {},
   "outputs": [
    {
     "name": "stderr",
     "output_type": "stream",
     "text": [
      "c:\\Users\\mtidd2\\Desktop\\rl_experimentation\\venv\\Lib\\site-packages\\glfw\\__init__.py:917: GLFWError: (65537) b'The GLFW library is not initialized'\n",
      "  warnings.warn(message, GLFWError)\n"
     ]
    },
    {
     "name": "stdout",
     "output_type": "stream",
     "text": [
      "Pressed ESC\n",
      "Quitting.\n"
     ]
    }
   ],
   "source": [
    "# render settings:\n",
    "width = 1280\n",
    "height = 1280\n",
    "default_camera_config = {\"azimuth\" : 90.0, \"elevation\" : 0.0, \"distance\" : 3.5, \"lookat\" : [0.0, 0.0, 0.25]}\n",
    "\n",
    "env = gym.make(\"InvertedPendulum-v5\", render_mode = \"human\", width = width, height = height, default_camera_config = default_camera_config)\n",
    "obs, _ = env.reset()\n",
    "done = False\n",
    "\n",
    "while not done:\n",
    "    action, _ = model.predict(obs, deterministic = True)\n",
    "    obs, reward, term, trunc, _ = env.step(action)\n",
    "    done = term or trunc\n",
    "    env.render()"
   ]
  }
 ],
 "metadata": {
  "kernelspec": {
   "display_name": "venv (3.12.5)",
   "language": "python",
   "name": "python3"
  },
  "language_info": {
   "codemirror_mode": {
    "name": "ipython",
    "version": 3
   },
   "file_extension": ".py",
   "mimetype": "text/x-python",
   "name": "python",
   "nbconvert_exporter": "python",
   "pygments_lexer": "ipython3",
   "version": "3.12.5"
  }
 },
 "nbformat": 4,
 "nbformat_minor": 5
}
